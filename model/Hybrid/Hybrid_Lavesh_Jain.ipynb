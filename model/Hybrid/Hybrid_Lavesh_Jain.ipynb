{
 "cells": [
  {
   "cell_type": "code",
   "execution_count": 2,
   "id": "4b79bf64",
   "metadata": {
    "scrolled": false
   },
   "outputs": [],
   "source": [
    "import pandas as pd\n",
    "# from Content_Based_Chetan_Nain import *\n",
    "\n",
    "# from surprise import Reader, Dataset, SVD\n",
    "# from surprise.model_selection import cross_validate"
   ]
  },
  {
   "cell_type": "code",
   "execution_count": 6,
   "id": "e0e0b938",
   "metadata": {},
   "outputs": [],
   "source": [
    "import sys\n",
    "sys.path.insert(0, '..')\n",
    "\n",
    "from Content_Based.Content_Based_Chetan_Nain import *"
   ]
  },
  {
   "cell_type": "code",
   "execution_count": 7,
   "id": "05e199f7",
   "metadata": {
    "scrolled": true
   },
   "outputs": [
    {
     "data": {
      "text/plain": [
       "9599            shakespeares romeo and juliet\n",
       "9600            shakespeares romeo and juliet\n",
       "9321                          getting over it\n",
       "6409                        a matter of honor\n",
       "9106                   eeny meeny helen grace\n",
       "9541     the sweet potato queens book of love\n",
       "10140                   wait till helen comes\n",
       "5960         smooth talking stranger travises\n",
       "9732                        say what you will\n",
       "3441                  starcrossed starcrossed\n",
       "Name: title, dtype: object"
      ]
     },
     "execution_count": 7,
     "metadata": {},
     "output_type": "execute_result"
    }
   ],
   "source": [
    "give_recom('my sunshine away')"
   ]
  },
  {
   "cell_type": "code",
   "execution_count": 9,
   "id": "35a61603",
   "metadata": {},
   "outputs": [],
   "source": [
    "books_data = pd.read_csv('../../data_preprocessing/books_data.csv')\n",
    "books_data=books_data.dropna()"
   ]
  },
  {
   "cell_type": "code",
   "execution_count": 10,
   "id": "7cc94fa1",
   "metadata": {
    "scrolled": true
   },
   "outputs": [],
   "source": [
    "df = books_data.iloc[book_indices][['best_book_id','title', 'original_publication_year', 'ratings_count', 'average_rating']]\n",
    "# df['est'] = df['best_book_id'].apply(lambda x: svd.predict(user_id, x).est)\n",
    "# df = df.sort_values('est', ascending=False)"
   ]
  },
  {
   "cell_type": "code",
   "execution_count": 11,
   "id": "5fa5c102",
   "metadata": {},
   "outputs": [
    {
     "data": {
      "text/html": [
       "<div>\n",
       "<style scoped>\n",
       "    .dataframe tbody tr th:only-of-type {\n",
       "        vertical-align: middle;\n",
       "    }\n",
       "\n",
       "    .dataframe tbody tr th {\n",
       "        vertical-align: top;\n",
       "    }\n",
       "\n",
       "    .dataframe thead th {\n",
       "        text-align: right;\n",
       "    }\n",
       "</style>\n",
       "<table border=\"1\" class=\"dataframe\">\n",
       "  <thead>\n",
       "    <tr style=\"text-align: right;\">\n",
       "      <th></th>\n",
       "      <th>best_book_id</th>\n",
       "      <th>title</th>\n",
       "      <th>original_publication_year</th>\n",
       "      <th>ratings_count</th>\n",
       "      <th>average_rating</th>\n",
       "    </tr>\n",
       "  </thead>\n",
       "  <tbody>\n",
       "    <tr>\n",
       "      <th>9599</th>\n",
       "      <td>265650</td>\n",
       "      <td>shakespeares romeo and juliet</td>\n",
       "      <td>2003.0</td>\n",
       "      <td>19052</td>\n",
       "      <td>4.09</td>\n",
       "    </tr>\n",
       "    <tr>\n",
       "      <th>9600</th>\n",
       "      <td>265650</td>\n",
       "      <td>shakespeares romeo and juliet</td>\n",
       "      <td>2003.0</td>\n",
       "      <td>19052</td>\n",
       "      <td>4.09</td>\n",
       "    </tr>\n",
       "    <tr>\n",
       "      <th>9321</th>\n",
       "      <td>33770</td>\n",
       "      <td>getting over it</td>\n",
       "      <td>2000.0</td>\n",
       "      <td>13240</td>\n",
       "      <td>3.53</td>\n",
       "    </tr>\n",
       "    <tr>\n",
       "      <th>6409</th>\n",
       "      <td>78970</td>\n",
       "      <td>a matter of honor</td>\n",
       "      <td>1985.0</td>\n",
       "      <td>16502</td>\n",
       "      <td>3.90</td>\n",
       "    </tr>\n",
       "    <tr>\n",
       "      <th>9106</th>\n",
       "      <td>23398806</td>\n",
       "      <td>eeny meeny helen grace</td>\n",
       "      <td>2014.0</td>\n",
       "      <td>8498</td>\n",
       "      <td>3.88</td>\n",
       "    </tr>\n",
       "  </tbody>\n",
       "</table>\n",
       "</div>"
      ],
      "text/plain": [
       "      best_book_id                          title  original_publication_year  \\\n",
       "9599        265650  shakespeares romeo and juliet                     2003.0   \n",
       "9600        265650  shakespeares romeo and juliet                     2003.0   \n",
       "9321         33770                getting over it                     2000.0   \n",
       "6409         78970              a matter of honor                     1985.0   \n",
       "9106      23398806         eeny meeny helen grace                     2014.0   \n",
       "\n",
       "      ratings_count  average_rating  \n",
       "9599          19052            4.09  \n",
       "9600          19052            4.09  \n",
       "9321          13240            3.53  \n",
       "6409          16502            3.90  \n",
       "9106           8498            3.88  "
      ]
     },
     "execution_count": 11,
     "metadata": {},
     "output_type": "execute_result"
    }
   ],
   "source": [
    "df.head()"
   ]
  },
  {
   "cell_type": "code",
   "execution_count": 12,
   "id": "33cfadc5",
   "metadata": {},
   "outputs": [],
   "source": [
    "\n",
    "\n",
    "# def hybrid(user_id, title, n=10):\n",
    "#     idx = indices[title]\n",
    "#     sim_scores = list(enumerate(cosine_sim[idx]))\n",
    "#     sim_scores = sorted(sim_scores, key=lambda x: x[1], reverse=True)\n",
    "#     sim_scores = sim_scores[1:51]\n",
    "#     book_indices = [i[0] for i in sim_scores]\n",
    "    \n",
    "#     df = books.iloc[book_indices][['book_id', 'title', 'original_publication_year', 'ratings_count', 'average_rating']]\n",
    "#     df['est'] = df['book_id'].apply(lambda x: svd.predict(user_id, x).est)\n",
    "#     df = df.sort_values('est', ascending=False)\n",
    "#     return df.head(n)"
   ]
  },
  {
   "cell_type": "code",
   "execution_count": null,
   "id": "b7718b2d",
   "metadata": {},
   "outputs": [],
   "source": []
  }
 ],
 "metadata": {
  "kernelspec": {
   "display_name": "Python 3 (ipykernel)",
   "language": "python",
   "name": "python3"
  },
  "language_info": {
   "codemirror_mode": {
    "name": "ipython",
    "version": 3
   },
   "file_extension": ".py",
   "mimetype": "text/x-python",
   "name": "python",
   "nbconvert_exporter": "python",
   "pygments_lexer": "ipython3",
   "version": "3.9.7"
  }
 },
 "nbformat": 4,
 "nbformat_minor": 5
}
