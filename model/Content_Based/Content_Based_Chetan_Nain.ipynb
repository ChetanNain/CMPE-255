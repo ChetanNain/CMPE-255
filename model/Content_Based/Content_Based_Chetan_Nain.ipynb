{
 "cells": [
  {
   "cell_type": "markdown",
   "id": "570480e7",
   "metadata": {},
   "source": [
    "## Content Based Model Using Sigmoid Kernel"
   ]
  },
  {
   "cell_type": "markdown",
   "id": "b93a3057",
   "metadata": {},
   "source": [
    "### Content-based recommendation algorithms are more concerned with item characteristics or qualities than with user data. They forecast a user's behavior based on the objects to which they respond. \n",
    "\n",
    "### Finding a decent movie to binge-watch over the weekend without having to do too much research is a typical challenge that millennials face nowadays. Let's look at how we might fix this problem for millennials by assisting them in finding a movie that they are likely to appreciate."
   ]
  },
  {
   "cell_type": "code",
   "execution_count": 8,
   "id": "8b24709b",
   "metadata": {},
   "outputs": [],
   "source": [
    "import pandas as pd\n",
    "import numpy as np"
   ]
  },
  {
   "cell_type": "markdown",
   "id": "74ee28b4",
   "metadata": {},
   "source": [
    "### Importing Data from the dataset"
   ]
  },
  {
   "cell_type": "code",
   "execution_count": 9,
   "id": "3371c199",
   "metadata": {},
   "outputs": [],
   "source": [
    "books_data = pd.read_csv('../../data_preprocessing/books_data.csv')\n",
    "books_data=books_data.dropna()"
   ]
  },
  {
   "cell_type": "markdown",
   "id": "1fad0042",
   "metadata": {},
   "source": [
    "### Lets understand the data by taking a sample of it. Lets look at the books written by George Orwell."
   ]
  },
  {
   "cell_type": "code",
   "execution_count": 10,
   "id": "e7c8eb53",
   "metadata": {
    "scrolled": true
   },
   "outputs": [
    {
     "data": {
      "text/html": [
       "<div>\n",
       "<style scoped>\n",
       "    .dataframe tbody tr th:only-of-type {\n",
       "        vertical-align: middle;\n",
       "    }\n",
       "\n",
       "    .dataframe tbody tr th {\n",
       "        vertical-align: top;\n",
       "    }\n",
       "\n",
       "    .dataframe thead th {\n",
       "        text-align: right;\n",
       "    }\n",
       "</style>\n",
       "<table border=\"1\" class=\"dataframe\">\n",
       "  <thead>\n",
       "    <tr style=\"text-align: right;\">\n",
       "      <th></th>\n",
       "      <th>Unnamed: 0</th>\n",
       "      <th>id</th>\n",
       "      <th>best_book_id</th>\n",
       "      <th>work_id</th>\n",
       "      <th>books_count</th>\n",
       "      <th>isbn13</th>\n",
       "      <th>original_publication_year</th>\n",
       "      <th>title</th>\n",
       "      <th>language_code</th>\n",
       "      <th>average_rating</th>\n",
       "      <th>...</th>\n",
       "      <th>work_text_reviews_count</th>\n",
       "      <th>ratings_1</th>\n",
       "      <th>ratings_2</th>\n",
       "      <th>ratings_3</th>\n",
       "      <th>ratings_4</th>\n",
       "      <th>ratings_5</th>\n",
       "      <th>image_url</th>\n",
       "      <th>small_image_url</th>\n",
       "      <th>authors</th>\n",
       "      <th>summary</th>\n",
       "    </tr>\n",
       "  </thead>\n",
       "  <tbody>\n",
       "    <tr>\n",
       "      <th>16</th>\n",
       "      <td>13</td>\n",
       "      <td>14</td>\n",
       "      <td>7613</td>\n",
       "      <td>2207778</td>\n",
       "      <td>896</td>\n",
       "      <td>9780452284240</td>\n",
       "      <td>1945.0</td>\n",
       "      <td>animal farm</td>\n",
       "      <td>eng</td>\n",
       "      <td>3.87</td>\n",
       "      <td>...</td>\n",
       "      <td>35472</td>\n",
       "      <td>66854</td>\n",
       "      <td>135147</td>\n",
       "      <td>433432</td>\n",
       "      <td>698642</td>\n",
       "      <td>648912</td>\n",
       "      <td>https://images.gr-assets.com/books/1424037542m...</td>\n",
       "      <td>https://images.gr-assets.com/books/1424037542s...</td>\n",
       "      <td>George Orwell</td>\n",
       "      <td>A satire on totalitarianism in which farm anim...</td>\n",
       "    </tr>\n",
       "    <tr>\n",
       "      <th>1102</th>\n",
       "      <td>845</td>\n",
       "      <td>846</td>\n",
       "      <td>5472</td>\n",
       "      <td>2966408</td>\n",
       "      <td>51</td>\n",
       "      <td>9780151010260</td>\n",
       "      <td>1950.0</td>\n",
       "      <td>animal farm</td>\n",
       "      <td>eng</td>\n",
       "      <td>4.26</td>\n",
       "      <td>...</td>\n",
       "      <td>1293</td>\n",
       "      <td>1212</td>\n",
       "      <td>3276</td>\n",
       "      <td>16511</td>\n",
       "      <td>40583</td>\n",
       "      <td>57179</td>\n",
       "      <td>https://images.gr-assets.com/books/1327959366m...</td>\n",
       "      <td>https://images.gr-assets.com/books/1327959366s...</td>\n",
       "      <td>George Orwell</td>\n",
       "      <td>George Orwell's classic satire on totalitarian...</td>\n",
       "    </tr>\n",
       "    <tr>\n",
       "      <th>5075</th>\n",
       "      <td>4003</td>\n",
       "      <td>4004</td>\n",
       "      <td>9646</td>\n",
       "      <td>2566499</td>\n",
       "      <td>151</td>\n",
       "      <td>9780156421170</td>\n",
       "      <td>1938.0</td>\n",
       "      <td>homage to catalonia</td>\n",
       "      <td>eng</td>\n",
       "      <td>4.14</td>\n",
       "      <td>...</td>\n",
       "      <td>1500</td>\n",
       "      <td>176</td>\n",
       "      <td>733</td>\n",
       "      <td>4407</td>\n",
       "      <td>10529</td>\n",
       "      <td>10036</td>\n",
       "      <td>https://images.gr-assets.com/books/1394868278m...</td>\n",
       "      <td>https://images.gr-assets.com/books/1394868278s...</td>\n",
       "      <td>George Orwell</td>\n",
       "      <td>Presents the British novelist's firsthand repo...</td>\n",
       "    </tr>\n",
       "    <tr>\n",
       "      <th>8519</th>\n",
       "      <td>6726</td>\n",
       "      <td>6727</td>\n",
       "      <td>9650</td>\n",
       "      <td>1171545</td>\n",
       "      <td>116</td>\n",
       "      <td>9781421808310</td>\n",
       "      <td>1934.0</td>\n",
       "      <td>burmese days</td>\n",
       "      <td>eng</td>\n",
       "      <td>3.84</td>\n",
       "      <td>...</td>\n",
       "      <td>929</td>\n",
       "      <td>144</td>\n",
       "      <td>811</td>\n",
       "      <td>3918</td>\n",
       "      <td>6521</td>\n",
       "      <td>3519</td>\n",
       "      <td>https://images.gr-assets.com/books/1415573403m...</td>\n",
       "      <td>https://images.gr-assets.com/books/1415573403s...</td>\n",
       "      <td>George Orwell</td>\n",
       "      <td>George Bowling, the hero of this comic novel, ...</td>\n",
       "    </tr>\n",
       "    <tr>\n",
       "      <th>12131</th>\n",
       "      <td>9641</td>\n",
       "      <td>9642</td>\n",
       "      <td>9648</td>\n",
       "      <td>3226250</td>\n",
       "      <td>99</td>\n",
       "      <td>9780141183720</td>\n",
       "      <td>1936.0</td>\n",
       "      <td>keep the aspidistra flying</td>\n",
       "      <td>eng</td>\n",
       "      <td>3.87</td>\n",
       "      <td>...</td>\n",
       "      <td>746</td>\n",
       "      <td>121</td>\n",
       "      <td>615</td>\n",
       "      <td>2926</td>\n",
       "      <td>4556</td>\n",
       "      <td>3043</td>\n",
       "      <td>https://images.gr-assets.com/books/1331244097m...</td>\n",
       "      <td>https://images.gr-assets.com/books/1331244097s...</td>\n",
       "      <td>George Orwell</td>\n",
       "      <td>London 1934. Gordon Comstock, copywriter for t...</td>\n",
       "    </tr>\n",
       "  </tbody>\n",
       "</table>\n",
       "<p>5 rows × 22 columns</p>\n",
       "</div>"
      ],
      "text/plain": [
       "       Unnamed: 0    id  best_book_id  work_id  books_count         isbn13  \\\n",
       "16             13    14          7613  2207778          896  9780452284240   \n",
       "1102          845   846          5472  2966408           51  9780151010260   \n",
       "5075         4003  4004          9646  2566499          151  9780156421170   \n",
       "8519         6726  6727          9650  1171545          116  9781421808310   \n",
       "12131        9641  9642          9648  3226250           99  9780141183720   \n",
       "\n",
       "       original_publication_year                       title language_code  \\\n",
       "16                        1945.0                 animal farm           eng   \n",
       "1102                      1950.0                 animal farm           eng   \n",
       "5075                      1938.0         homage to catalonia           eng   \n",
       "8519                      1934.0                burmese days           eng   \n",
       "12131                     1936.0  keep the aspidistra flying           eng   \n",
       "\n",
       "       average_rating  ...  work_text_reviews_count  ratings_1  ratings_2  \\\n",
       "16               3.87  ...                    35472      66854     135147   \n",
       "1102             4.26  ...                     1293       1212       3276   \n",
       "5075             4.14  ...                     1500        176        733   \n",
       "8519             3.84  ...                      929        144        811   \n",
       "12131            3.87  ...                      746        121        615   \n",
       "\n",
       "       ratings_3  ratings_4  ratings_5  \\\n",
       "16        433432     698642     648912   \n",
       "1102       16511      40583      57179   \n",
       "5075        4407      10529      10036   \n",
       "8519        3918       6521       3519   \n",
       "12131       2926       4556       3043   \n",
       "\n",
       "                                               image_url  \\\n",
       "16     https://images.gr-assets.com/books/1424037542m...   \n",
       "1102   https://images.gr-assets.com/books/1327959366m...   \n",
       "5075   https://images.gr-assets.com/books/1394868278m...   \n",
       "8519   https://images.gr-assets.com/books/1415573403m...   \n",
       "12131  https://images.gr-assets.com/books/1331244097m...   \n",
       "\n",
       "                                         small_image_url        authors  \\\n",
       "16     https://images.gr-assets.com/books/1424037542s...  George Orwell   \n",
       "1102   https://images.gr-assets.com/books/1327959366s...  George Orwell   \n",
       "5075   https://images.gr-assets.com/books/1394868278s...  George Orwell   \n",
       "8519   https://images.gr-assets.com/books/1415573403s...  George Orwell   \n",
       "12131  https://images.gr-assets.com/books/1331244097s...  George Orwell   \n",
       "\n",
       "                                                 summary  \n",
       "16     A satire on totalitarianism in which farm anim...  \n",
       "1102   George Orwell's classic satire on totalitarian...  \n",
       "5075   Presents the British novelist's firsthand repo...  \n",
       "8519   George Bowling, the hero of this comic novel, ...  \n",
       "12131  London 1934. Gordon Comstock, copywriter for t...  \n",
       "\n",
       "[5 rows x 22 columns]"
      ]
     },
     "execution_count": 10,
     "metadata": {},
     "output_type": "execute_result"
    }
   ],
   "source": [
    "books_data[books_data['authors']=='George Orwell']"
   ]
  },
  {
   "cell_type": "markdown",
   "id": "d7446517",
   "metadata": {},
   "source": [
    "### Before we begin the analysis, lets check for null data in the dataset."
   ]
  },
  {
   "cell_type": "code",
   "execution_count": 11,
   "id": "41916a46",
   "metadata": {},
   "outputs": [
    {
     "data": {
      "text/plain": [
       "Unnamed: 0                   0\n",
       "id                           0\n",
       "best_book_id                 0\n",
       "work_id                      0\n",
       "books_count                  0\n",
       "isbn13                       0\n",
       "original_publication_year    0\n",
       "title                        0\n",
       "language_code                0\n",
       "average_rating               0\n",
       "ratings_count                0\n",
       "work_ratings_count           0\n",
       "work_text_reviews_count      0\n",
       "ratings_1                    0\n",
       "ratings_2                    0\n",
       "ratings_3                    0\n",
       "ratings_4                    0\n",
       "ratings_5                    0\n",
       "image_url                    0\n",
       "small_image_url              0\n",
       "authors                      0\n",
       "summary                      0\n",
       "dtype: int64"
      ]
     },
     "execution_count": 11,
     "metadata": {},
     "output_type": "execute_result"
    }
   ],
   "source": [
    "books_data.isnull().sum()"
   ]
  },
  {
   "cell_type": "markdown",
   "id": "bd18bf4b",
   "metadata": {},
   "source": [
    "### We'll need to transform our text in the summary column to word vectors and fit a TF-IDF on overview before we can conduct any analysis on the plot summaries:"
   ]
  },
  {
   "cell_type": "code",
   "execution_count": 12,
   "id": "e6b79a82",
   "metadata": {},
   "outputs": [],
   "source": [
    "from sklearn.feature_extraction.text import TfidfVectorizer"
   ]
  },
  {
   "cell_type": "code",
   "execution_count": 13,
   "id": "36a2def2",
   "metadata": {},
   "outputs": [],
   "source": [
    "tvf = TfidfVectorizer(min_df=3, max_features=None, strip_accents='unicode', analyzer='word', ngram_range=(1,3), token_pattern=r'\\w{1,}', stop_words='english')"
   ]
  },
  {
   "cell_type": "code",
   "execution_count": null,
   "id": "e6ebe638",
   "metadata": {},
   "outputs": [],
   "source": []
  },
  {
   "cell_type": "code",
   "execution_count": 14,
   "id": "79ff0325",
   "metadata": {},
   "outputs": [],
   "source": [
    "tvf_matrix = tvf.fit_transform(books_data['summary'])"
   ]
  },
  {
   "cell_type": "code",
   "execution_count": 15,
   "id": "fa28ad6f",
   "metadata": {},
   "outputs": [
    {
     "data": {
      "text/plain": [
       "(10498, 63687)"
      ]
     },
     "execution_count": 15,
     "metadata": {},
     "output_type": "execute_result"
    }
   ],
   "source": [
    "tvf_matrix.shape"
   ]
  },
  {
   "cell_type": "markdown",
   "id": "99d116e3",
   "metadata": {},
   "source": [
    "### So, to describe our 10,000 books, summaries employed roughly 63,500 unique words. This figure can be changed depending on the ngram range passed to the function parameter."
   ]
  },
  {
   "cell_type": "markdown",
   "id": "41450f6f",
   "metadata": {},
   "source": [
    "### Now that we have a word matrix, we can start computing similarity scores. This measure will assist us in identifying summary with plot descriptions comparable to the one provided by the user."
   ]
  },
  {
   "cell_type": "markdown",
   "id": "d9c8f4b8",
   "metadata": {},
   "source": [
    "### With the below code we will start computing the sigmoid kernel"
   ]
  },
  {
   "cell_type": "code",
   "execution_count": 16,
   "id": "7daf3f17",
   "metadata": {},
   "outputs": [],
   "source": [
    "from sklearn.metrics.pairwise import sigmoid_kernel\n",
    "sig = sigmoid_kernel(tvf_matrix, tvf_matrix)"
   ]
  },
  {
   "cell_type": "code",
   "execution_count": 17,
   "id": "9601a1e4",
   "metadata": {},
   "outputs": [
    {
     "data": {
      "text/plain": [
       "array([0.76160075, 0.76159431, 0.7615942 , ..., 0.76159421, 0.7615943 ,\n",
       "       0.76159416])"
      ]
     },
     "execution_count": 17,
     "metadata": {},
     "output_type": "execute_result"
    }
   ],
   "source": [
    "sig[0]"
   ]
  },
  {
   "cell_type": "markdown",
   "id": "136156b6",
   "metadata": {},
   "source": [
    "### Now to proceed ahead we will do reverse mapping of indices and books title."
   ]
  },
  {
   "cell_type": "code",
   "execution_count": 18,
   "id": "1217e24d",
   "metadata": {},
   "outputs": [],
   "source": [
    "indices= pd.Series(books_data.index, index=books_data['title']).drop_duplicates()"
   ]
  },
  {
   "cell_type": "code",
   "execution_count": 19,
   "id": "46901264",
   "metadata": {},
   "outputs": [
    {
     "data": {
      "text/plain": [
       "title\n",
       "the hunger games the hunger games                                                               0\n",
       "twilight twilight                                                                               3\n",
       "to kill a mockingbird                                                                           4\n",
       "the great gatsby                                                                                5\n",
       "the fault in our stars                                                                          6\n",
       "                                                                                            ...  \n",
       "billy budd sailor                                                                           12535\n",
       "bayou moon the edge                                                                         12536\n",
       "means of ascent the years of lyndon johnson                                                 12537\n",
       "cinderella ate my daughter dispatches from the frontlines of the new girlie girl culture    12539\n",
       "the first world war                                                                         12540\n",
       "Length: 10498, dtype: int64"
      ]
     },
     "execution_count": 19,
     "metadata": {},
     "output_type": "execute_result"
    }
   ],
   "source": [
    "indices"
   ]
  },
  {
   "cell_type": "code",
   "execution_count": 20,
   "id": "bcfa7cba",
   "metadata": {},
   "outputs": [],
   "source": [
    "def give_recom(title, sig=sig):\n",
    "    # we will start by pulling the index of a given titile\n",
    "    idx=indices[title]\n",
    "    #We will get the pairwise similarity score.\n",
    "    sig_score = list(enumerate(sig[idx]))\n",
    "    # we will sort the movies.\n",
    "    sig_score = sorted(sig_score, key=lambda x:x[1], reverse=True)\n",
    "    # return the sigma score of top 10 similar books \n",
    "    sig_score = sig_score[1:11]\n",
    "    book_indices = [i[0] for i in sig_score]\n",
    "    #writing the data to an external file \n",
    "    output_file = open('content_op.txt', 'w')\n",
    "    output_file.write(\"\\n\".join([str(x) for x in book_indices]))\n",
    "    output_file.close()\n",
    "    # Finally returning the data.\n",
    "    return books_data['title'].iloc[book_indices]"
   ]
  },
  {
   "cell_type": "code",
   "execution_count": 21,
   "id": "d6e2eda3",
   "metadata": {},
   "outputs": [
    {
     "data": {
      "text/plain": [
       "array(['shakespeares romeo and juliet', 'getting over it',\n",
       "       'a matter of honor', 'eeny meeny helen grace',\n",
       "       'the sweet potato queens book of love', 'wait till helen comes',\n",
       "       'smooth talking stranger travises', 'say what you will',\n",
       "       'starcrossed starcrossed'], dtype=object)"
      ]
     },
     "execution_count": 21,
     "metadata": {},
     "output_type": "execute_result"
    }
   ],
   "source": [
    "# Finally returning top unique books.\n",
    "give_recom('my sunshine away').unique()"
   ]
  },
  {
   "cell_type": "code",
   "execution_count": null,
   "id": "3024e867",
   "metadata": {},
   "outputs": [],
   "source": []
  }
 ],
 "metadata": {
  "kernelspec": {
   "display_name": "Python 3 (ipykernel)",
   "language": "python",
   "name": "python3"
  },
  "language_info": {
   "codemirror_mode": {
    "name": "ipython",
    "version": 3
   },
   "file_extension": ".py",
   "mimetype": "text/x-python",
   "name": "python",
   "nbconvert_exporter": "python",
   "pygments_lexer": "ipython3",
   "version": "3.9.7"
  }
 },
 "nbformat": 4,
 "nbformat_minor": 5
}
