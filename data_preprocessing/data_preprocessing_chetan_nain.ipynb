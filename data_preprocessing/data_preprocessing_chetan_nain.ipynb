{
 "cells": [
  {
   "cell_type": "markdown",
   "metadata": {
    "id": "-pVhOfzLx9us"
   },
   "source": [
    "# Data Preprocessing\n",
    "\n"
   ]
  },
  {
   "cell_type": "markdown",
   "metadata": {},
   "source": [
    "### Importing the required libraries"
   ]
  },
  {
   "cell_type": "code",
   "execution_count": 272,
   "metadata": {
    "executionInfo": {
     "elapsed": 152,
     "status": "ok",
     "timestamp": 1651445587012,
     "user": {
      "displayName": "Chetan Nain",
      "userId": "01702144228733672979"
     },
     "user_tz": 420
    },
    "id": "3VQqVi-3ScBC"
   },
   "outputs": [],
   "source": [
    "import pandas as pd\n",
    "import numpy as np\n",
    "import seaborn as sns\n",
    "import matplotlib.pyplot as plt\n",
    "import datetime\n",
    "from scipy import stats\n",
    "from pyecharts.charts import Bar\n",
    "from pyecharts import options as opts\n",
    "import warnings\n",
    "warnings.filterwarnings('ignore')\n",
    "import missingno as msno\n",
    "from pandas import Series, DataFrame\n",
    "%matplotlib inline"
   ]
  },
  {
   "cell_type": "markdown",
   "metadata": {},
   "source": [
    "### Loading the data"
   ]
  },
  {
   "cell_type": "code",
   "execution_count": 273,
   "metadata": {
    "colab": {
     "base_uri": "https://localhost:8080/",
     "height": 423
    },
    "executionInfo": {
     "elapsed": 1283,
     "status": "ok",
     "timestamp": 1651445628444,
     "user": {
      "displayName": "Chetan Nain",
      "userId": "01702144228733672979"
     },
     "user_tz": 420
    },
    "id": "vpQ7f3ZrupaE",
    "outputId": "bf7539e7-2b84-4ebe-b725-b001c7619b00"
   },
   "outputs": [],
   "source": [
    "books_data = pd.read_csv('../data/books_data.csv')\n",
    "ratings_data = pd.read_csv('../data/books_ratings_data.csv')\n",
    "book_tags_data = pd.read_csv('../data/book_tags_data.csv')\n",
    "tags_data = pd.read_csv('../data/tags_data.csv')"
   ]
  },
  {
   "cell_type": "markdown",
   "metadata": {},
   "source": [
    "### Understanding the loaded data and checking shape"
   ]
  },
  {
   "cell_type": "code",
   "execution_count": 274,
   "metadata": {
    "colab": {
     "base_uri": "https://localhost:8080/",
     "height": 482
    },
    "executionInfo": {
     "elapsed": 20,
     "status": "ok",
     "timestamp": 1651446122919,
     "user": {
      "displayName": "Chetan Nain",
      "userId": "01702144228733672979"
     },
     "user_tz": 420
    },
    "id": "atL8dGA51KJ1",
    "outputId": "aea03570-7427-4dd5-d5c0-58ec37bab24b"
   },
   "outputs": [
    {
     "data": {
      "text/html": [
       "<div>\n",
       "<style scoped>\n",
       "    .dataframe tbody tr th:only-of-type {\n",
       "        vertical-align: middle;\n",
       "    }\n",
       "\n",
       "    .dataframe tbody tr th {\n",
       "        vertical-align: top;\n",
       "    }\n",
       "\n",
       "    .dataframe thead th {\n",
       "        text-align: right;\n",
       "    }\n",
       "</style>\n",
       "<table border=\"1\" class=\"dataframe\">\n",
       "  <thead>\n",
       "    <tr style=\"text-align: right;\">\n",
       "      <th></th>\n",
       "      <th>id</th>\n",
       "      <th>book_id</th>\n",
       "      <th>best_book_id</th>\n",
       "      <th>work_id</th>\n",
       "      <th>books_count</th>\n",
       "      <th>isbn</th>\n",
       "      <th>isbn13</th>\n",
       "      <th>authors</th>\n",
       "      <th>original_publication_year</th>\n",
       "      <th>original_title</th>\n",
       "      <th>...</th>\n",
       "      <th>ratings_count</th>\n",
       "      <th>work_ratings_count</th>\n",
       "      <th>work_text_reviews_count</th>\n",
       "      <th>ratings_1</th>\n",
       "      <th>ratings_2</th>\n",
       "      <th>ratings_3</th>\n",
       "      <th>ratings_4</th>\n",
       "      <th>ratings_5</th>\n",
       "      <th>image_url</th>\n",
       "      <th>small_image_url</th>\n",
       "    </tr>\n",
       "  </thead>\n",
       "  <tbody>\n",
       "    <tr>\n",
       "      <th>0</th>\n",
       "      <td>1</td>\n",
       "      <td>2767052</td>\n",
       "      <td>2767052</td>\n",
       "      <td>2792775</td>\n",
       "      <td>272</td>\n",
       "      <td>439023483</td>\n",
       "      <td>9.780439e+12</td>\n",
       "      <td>Suzanne Collins</td>\n",
       "      <td>2008.0</td>\n",
       "      <td>The Hunger Games</td>\n",
       "      <td>...</td>\n",
       "      <td>4780653</td>\n",
       "      <td>4942365</td>\n",
       "      <td>155254</td>\n",
       "      <td>66715</td>\n",
       "      <td>127936</td>\n",
       "      <td>560092</td>\n",
       "      <td>1481305</td>\n",
       "      <td>2706317</td>\n",
       "      <td>https://images.gr-assets.com/books/1447303603m...</td>\n",
       "      <td>https://images.gr-assets.com/books/1447303603s...</td>\n",
       "    </tr>\n",
       "    <tr>\n",
       "      <th>1</th>\n",
       "      <td>2</td>\n",
       "      <td>3</td>\n",
       "      <td>3</td>\n",
       "      <td>4640799</td>\n",
       "      <td>491</td>\n",
       "      <td>439554934</td>\n",
       "      <td>9.780440e+12</td>\n",
       "      <td>J.K. Rowling, Mary GrandPré</td>\n",
       "      <td>1997.0</td>\n",
       "      <td>Harry Potter and the Philosopher's Stone</td>\n",
       "      <td>...</td>\n",
       "      <td>4602479</td>\n",
       "      <td>4800065</td>\n",
       "      <td>75867</td>\n",
       "      <td>75504</td>\n",
       "      <td>101676</td>\n",
       "      <td>455024</td>\n",
       "      <td>1156318</td>\n",
       "      <td>3011543</td>\n",
       "      <td>https://images.gr-assets.com/books/1474154022m...</td>\n",
       "      <td>https://images.gr-assets.com/books/1474154022s...</td>\n",
       "    </tr>\n",
       "    <tr>\n",
       "      <th>2</th>\n",
       "      <td>3</td>\n",
       "      <td>41865</td>\n",
       "      <td>41865</td>\n",
       "      <td>3212258</td>\n",
       "      <td>226</td>\n",
       "      <td>316015849</td>\n",
       "      <td>9.780316e+12</td>\n",
       "      <td>Stephenie Meyer</td>\n",
       "      <td>2005.0</td>\n",
       "      <td>Twilight</td>\n",
       "      <td>...</td>\n",
       "      <td>3866839</td>\n",
       "      <td>3916824</td>\n",
       "      <td>95009</td>\n",
       "      <td>456191</td>\n",
       "      <td>436802</td>\n",
       "      <td>793319</td>\n",
       "      <td>875073</td>\n",
       "      <td>1355439</td>\n",
       "      <td>https://images.gr-assets.com/books/1361039443m...</td>\n",
       "      <td>https://images.gr-assets.com/books/1361039443s...</td>\n",
       "    </tr>\n",
       "    <tr>\n",
       "      <th>3</th>\n",
       "      <td>4</td>\n",
       "      <td>2657</td>\n",
       "      <td>2657</td>\n",
       "      <td>3275794</td>\n",
       "      <td>487</td>\n",
       "      <td>61120081</td>\n",
       "      <td>9.780061e+12</td>\n",
       "      <td>Harper Lee</td>\n",
       "      <td>1960.0</td>\n",
       "      <td>To Kill a Mockingbird</td>\n",
       "      <td>...</td>\n",
       "      <td>3198671</td>\n",
       "      <td>3340896</td>\n",
       "      <td>72586</td>\n",
       "      <td>60427</td>\n",
       "      <td>117415</td>\n",
       "      <td>446835</td>\n",
       "      <td>1001952</td>\n",
       "      <td>1714267</td>\n",
       "      <td>https://images.gr-assets.com/books/1361975680m...</td>\n",
       "      <td>https://images.gr-assets.com/books/1361975680s...</td>\n",
       "    </tr>\n",
       "    <tr>\n",
       "      <th>4</th>\n",
       "      <td>5</td>\n",
       "      <td>4671</td>\n",
       "      <td>4671</td>\n",
       "      <td>245494</td>\n",
       "      <td>1356</td>\n",
       "      <td>743273567</td>\n",
       "      <td>9.780743e+12</td>\n",
       "      <td>F. Scott Fitzgerald</td>\n",
       "      <td>1925.0</td>\n",
       "      <td>The Great Gatsby</td>\n",
       "      <td>...</td>\n",
       "      <td>2683664</td>\n",
       "      <td>2773745</td>\n",
       "      <td>51992</td>\n",
       "      <td>86236</td>\n",
       "      <td>197621</td>\n",
       "      <td>606158</td>\n",
       "      <td>936012</td>\n",
       "      <td>947718</td>\n",
       "      <td>https://images.gr-assets.com/books/1490528560m...</td>\n",
       "      <td>https://images.gr-assets.com/books/1490528560s...</td>\n",
       "    </tr>\n",
       "  </tbody>\n",
       "</table>\n",
       "<p>5 rows × 23 columns</p>\n",
       "</div>"
      ],
      "text/plain": [
       "   id  book_id  best_book_id  work_id  books_count       isbn        isbn13  \\\n",
       "0   1  2767052       2767052  2792775          272  439023483  9.780439e+12   \n",
       "1   2        3             3  4640799          491  439554934  9.780440e+12   \n",
       "2   3    41865         41865  3212258          226  316015849  9.780316e+12   \n",
       "3   4     2657          2657  3275794          487   61120081  9.780061e+12   \n",
       "4   5     4671          4671   245494         1356  743273567  9.780743e+12   \n",
       "\n",
       "                       authors  original_publication_year  \\\n",
       "0              Suzanne Collins                     2008.0   \n",
       "1  J.K. Rowling, Mary GrandPré                     1997.0   \n",
       "2              Stephenie Meyer                     2005.0   \n",
       "3                   Harper Lee                     1960.0   \n",
       "4          F. Scott Fitzgerald                     1925.0   \n",
       "\n",
       "                             original_title  ... ratings_count  \\\n",
       "0                          The Hunger Games  ...       4780653   \n",
       "1  Harry Potter and the Philosopher's Stone  ...       4602479   \n",
       "2                                  Twilight  ...       3866839   \n",
       "3                     To Kill a Mockingbird  ...       3198671   \n",
       "4                          The Great Gatsby  ...       2683664   \n",
       "\n",
       "  work_ratings_count  work_text_reviews_count  ratings_1  ratings_2  \\\n",
       "0            4942365                   155254      66715     127936   \n",
       "1            4800065                    75867      75504     101676   \n",
       "2            3916824                    95009     456191     436802   \n",
       "3            3340896                    72586      60427     117415   \n",
       "4            2773745                    51992      86236     197621   \n",
       "\n",
       "   ratings_3  ratings_4  ratings_5  \\\n",
       "0     560092    1481305    2706317   \n",
       "1     455024    1156318    3011543   \n",
       "2     793319     875073    1355439   \n",
       "3     446835    1001952    1714267   \n",
       "4     606158     936012     947718   \n",
       "\n",
       "                                           image_url  \\\n",
       "0  https://images.gr-assets.com/books/1447303603m...   \n",
       "1  https://images.gr-assets.com/books/1474154022m...   \n",
       "2  https://images.gr-assets.com/books/1361039443m...   \n",
       "3  https://images.gr-assets.com/books/1361975680m...   \n",
       "4  https://images.gr-assets.com/books/1490528560m...   \n",
       "\n",
       "                                     small_image_url  \n",
       "0  https://images.gr-assets.com/books/1447303603s...  \n",
       "1  https://images.gr-assets.com/books/1474154022s...  \n",
       "2  https://images.gr-assets.com/books/1361039443s...  \n",
       "3  https://images.gr-assets.com/books/1361975680s...  \n",
       "4  https://images.gr-assets.com/books/1490528560s...  \n",
       "\n",
       "[5 rows x 23 columns]"
      ]
     },
     "execution_count": 274,
     "metadata": {},
     "output_type": "execute_result"
    }
   ],
   "source": [
    "books_data.head()"
   ]
  },
  {
   "cell_type": "code",
   "execution_count": 275,
   "metadata": {
    "colab": {
     "base_uri": "https://localhost:8080/"
    },
    "executionInfo": {
     "elapsed": 177,
     "status": "ok",
     "timestamp": 1651446270413,
     "user": {
      "displayName": "Chetan Nain",
      "userId": "01702144228733672979"
     },
     "user_tz": 420
    },
    "id": "ACjn8p_w3jQY",
    "outputId": "39a4d7c8-a789-4101-91b6-d1f7c3a6fca6"
   },
   "outputs": [
    {
     "data": {
      "text/plain": [
       "(10000, 23)"
      ]
     },
     "execution_count": 275,
     "metadata": {},
     "output_type": "execute_result"
    }
   ],
   "source": [
    "books_data.shape"
   ]
  },
  {
   "cell_type": "markdown",
   "metadata": {},
   "source": [
    "### Understanding the null values in the dataset"
   ]
  },
  {
   "cell_type": "code",
   "execution_count": 276,
   "metadata": {},
   "outputs": [
    {
     "data": {
      "text/plain": [
       "id                              0\n",
       "book_id                         0\n",
       "best_book_id                    0\n",
       "work_id                         0\n",
       "books_count                     0\n",
       "isbn                          700\n",
       "isbn13                        585\n",
       "authors                         0\n",
       "original_publication_year      21\n",
       "original_title                585\n",
       "title                           0\n",
       "language_code                1084\n",
       "average_rating                  0\n",
       "ratings_count                   0\n",
       "work_ratings_count              0\n",
       "work_text_reviews_count         0\n",
       "ratings_1                       0\n",
       "ratings_2                       0\n",
       "ratings_3                       0\n",
       "ratings_4                       0\n",
       "ratings_5                       0\n",
       "image_url                       0\n",
       "small_image_url                 0\n",
       "dtype: int64"
      ]
     },
     "execution_count": 276,
     "metadata": {},
     "output_type": "execute_result"
    }
   ],
   "source": [
    "books_data.isnull().sum()"
   ]
  },
  {
   "cell_type": "code",
   "execution_count": 277,
   "metadata": {},
   "outputs": [
    {
     "data": {
      "text/plain": [
       "<AxesSubplot:>"
      ]
     },
     "execution_count": 277,
     "metadata": {},
     "output_type": "execute_result"
    },
    {
     "data": {
      "image/png": "[encoded data removed]",
      "text/plain": [
       "<Figure size 1800x720 with 2 Axes>"
      ]
     },
     "metadata": {
      "needs_background": "light"
     },
     "output_type": "display_data"
    }
   ],
   "source": [
    "msno.matrix(books_data)"
   ]
  },
  {
   "cell_type": "markdown",
   "metadata": {},
   "source": [
    "### Removing unnecessary columns"
   ]
  },
  {
   "cell_type": "markdown",
   "metadata": {},
   "source": [
    "Since isbn13 is more precise form of coding than isbn which is just a 10 digit number so with the presence of isbn13 we wont be needing isbn. So dropping isbn from the dataset.\n",
    "\n",
    "Similarly, best_book_id is the book id of the latest version of the book available, so we feel that we wont be needing the book_id since we already have best_book_id.\n",
    "\n",
    "Apart form that original title too is a redundant column because of the presence of title column."
   ]
  },
  {
   "cell_type": "code",
   "execution_count": 278,
   "metadata": {},
   "outputs": [],
   "source": [
    "books_data = books_data.drop(['book_id', 'isbn','original_title'], axis=1)"
   ]
  },
  {
   "cell_type": "markdown",
   "metadata": {},
   "source": [
    "### Handling nulls in the dataset"
   ]
  },
  {
   "cell_type": "markdown",
   "metadata": {},
   "source": [
    "### Now as we know, the column 'language_code' has a lot of null values. so we will try to impute these null values."
   ]
  },
  {
   "cell_type": "code",
   "execution_count": 279,
   "metadata": {},
   "outputs": [],
   "source": [
    "nan_in_col  = books_data[books_data['language_code'].isna()]"
   ]
  },
  {
   "cell_type": "code",
   "execution_count": 239,
   "metadata": {},
   "outputs": [
    {
     "data": {
      "text/html": [
       "<div>\n",
       "<style scoped>\n",
       "    .dataframe tbody tr th:only-of-type {\n",
       "        vertical-align: middle;\n",
       "    }\n",
       "\n",
       "    .dataframe tbody tr th {\n",
       "        vertical-align: top;\n",
       "    }\n",
       "\n",
       "    .dataframe thead th {\n",
       "        text-align: right;\n",
       "    }\n",
       "</style>\n",
       "<table border=\"1\" class=\"dataframe\">\n",
       "  <thead>\n",
       "    <tr style=\"text-align: right;\">\n",
       "      <th></th>\n",
       "      <th>id</th>\n",
       "      <th>best_book_id</th>\n",
       "      <th>work_id</th>\n",
       "      <th>books_count</th>\n",
       "      <th>isbn13</th>\n",
       "      <th>authors</th>\n",
       "      <th>original_publication_year</th>\n",
       "      <th>title</th>\n",
       "      <th>language_code</th>\n",
       "      <th>average_rating</th>\n",
       "      <th>ratings_count</th>\n",
       "      <th>work_ratings_count</th>\n",
       "      <th>work_text_reviews_count</th>\n",
       "      <th>ratings_1</th>\n",
       "      <th>ratings_2</th>\n",
       "      <th>ratings_3</th>\n",
       "      <th>ratings_4</th>\n",
       "      <th>ratings_5</th>\n",
       "      <th>image_url</th>\n",
       "      <th>small_image_url</th>\n",
       "    </tr>\n",
       "  </thead>\n",
       "  <tbody>\n",
       "    <tr>\n",
       "      <th>44</th>\n",
       "      <td>45</td>\n",
       "      <td>4214</td>\n",
       "      <td>1392700</td>\n",
       "      <td>264</td>\n",
       "      <td>9.780770e+12</td>\n",
       "      <td>Yann Martel</td>\n",
       "      <td>2001.0</td>\n",
       "      <td>Life of Pi</td>\n",
       "      <td>NaN</td>\n",
       "      <td>3.88</td>\n",
       "      <td>1003228</td>\n",
       "      <td>1077431</td>\n",
       "      <td>42962</td>\n",
       "      <td>39768</td>\n",
       "      <td>74331</td>\n",
       "      <td>218702</td>\n",
       "      <td>384164</td>\n",
       "      <td>360466</td>\n",
       "      <td>https://images.gr-assets.com/books/1320562005m...</td>\n",
       "      <td>https://images.gr-assets.com/books/1320562005s...</td>\n",
       "    </tr>\n",
       "    <tr>\n",
       "      <th>131</th>\n",
       "      <td>132</td>\n",
       "      <td>3431</td>\n",
       "      <td>2561472</td>\n",
       "      <td>123</td>\n",
       "      <td>9.781401e+12</td>\n",
       "      <td>Mitch Albom</td>\n",
       "      <td>2003.0</td>\n",
       "      <td>The Five People You Meet in Heaven</td>\n",
       "      <td>NaN</td>\n",
       "      <td>3.90</td>\n",
       "      <td>449501</td>\n",
       "      <td>474699</td>\n",
       "      <td>16682</td>\n",
       "      <td>12360</td>\n",
       "      <td>33669</td>\n",
       "      <td>107800</td>\n",
       "      <td>155830</td>\n",
       "      <td>165040</td>\n",
       "      <td>https://s.gr-assets.com/assets/nophoto/book/11...</td>\n",
       "      <td>https://s.gr-assets.com/assets/nophoto/book/50...</td>\n",
       "    </tr>\n",
       "    <tr>\n",
       "      <th>203</th>\n",
       "      <td>204</td>\n",
       "      <td>5326</td>\n",
       "      <td>3097440</td>\n",
       "      <td>2380</td>\n",
       "      <td>9.781562e+12</td>\n",
       "      <td>Charles Dickens</td>\n",
       "      <td>1843.0</td>\n",
       "      <td>A Christmas Carol</td>\n",
       "      <td>NaN</td>\n",
       "      <td>4.02</td>\n",
       "      <td>394540</td>\n",
       "      <td>441396</td>\n",
       "      <td>11568</td>\n",
       "      <td>6737</td>\n",
       "      <td>21415</td>\n",
       "      <td>93906</td>\n",
       "      <td>153823</td>\n",
       "      <td>165515</td>\n",
       "      <td>https://images.gr-assets.com/books/1406512317m...</td>\n",
       "      <td>https://images.gr-assets.com/books/1406512317s...</td>\n",
       "    </tr>\n",
       "    <tr>\n",
       "      <th>236</th>\n",
       "      <td>237</td>\n",
       "      <td>10592</td>\n",
       "      <td>1552134</td>\n",
       "      <td>249</td>\n",
       "      <td>9.781417e+12</td>\n",
       "      <td>Stephen King</td>\n",
       "      <td>1974.0</td>\n",
       "      <td>Carrie</td>\n",
       "      <td>NaN</td>\n",
       "      <td>3.93</td>\n",
       "      <td>356814</td>\n",
       "      <td>377650</td>\n",
       "      <td>8264</td>\n",
       "      <td>4564</td>\n",
       "      <td>19479</td>\n",
       "      <td>96352</td>\n",
       "      <td>136054</td>\n",
       "      <td>121201</td>\n",
       "      <td>https://s.gr-assets.com/assets/nophoto/book/11...</td>\n",
       "      <td>https://s.gr-assets.com/assets/nophoto/book/50...</td>\n",
       "    </tr>\n",
       "    <tr>\n",
       "      <th>287</th>\n",
       "      <td>288</td>\n",
       "      <td>19691</td>\n",
       "      <td>1112006</td>\n",
       "      <td>117</td>\n",
       "      <td>9.780425e+12</td>\n",
       "      <td>Tom Clancy</td>\n",
       "      <td>1984.0</td>\n",
       "      <td>The Hunt for Red October (Jack Ryan Universe, #4)</td>\n",
       "      <td>NaN</td>\n",
       "      <td>4.01</td>\n",
       "      <td>270318</td>\n",
       "      <td>278255</td>\n",
       "      <td>2117</td>\n",
       "      <td>9470</td>\n",
       "      <td>13707</td>\n",
       "      <td>49906</td>\n",
       "      <td>95296</td>\n",
       "      <td>109876</td>\n",
       "      <td>https://images.gr-assets.com/books/1281995542m...</td>\n",
       "      <td>https://images.gr-assets.com/books/1281995542s...</td>\n",
       "    </tr>\n",
       "    <tr>\n",
       "      <th>...</th>\n",
       "      <td>...</td>\n",
       "      <td>...</td>\n",
       "      <td>...</td>\n",
       "      <td>...</td>\n",
       "      <td>...</td>\n",
       "      <td>...</td>\n",
       "      <td>...</td>\n",
       "      <td>...</td>\n",
       "      <td>...</td>\n",
       "      <td>...</td>\n",
       "      <td>...</td>\n",
       "      <td>...</td>\n",
       "      <td>...</td>\n",
       "      <td>...</td>\n",
       "      <td>...</td>\n",
       "      <td>...</td>\n",
       "      <td>...</td>\n",
       "      <td>...</td>\n",
       "      <td>...</td>\n",
       "      <td>...</td>\n",
       "    </tr>\n",
       "    <tr>\n",
       "      <th>9972</th>\n",
       "      <td>9973</td>\n",
       "      <td>849380</td>\n",
       "      <td>4370</td>\n",
       "      <td>52</td>\n",
       "      <td>9.780610e+12</td>\n",
       "      <td>John M. Gottman, Nan Silver</td>\n",
       "      <td>1999.0</td>\n",
       "      <td>The Seven Principles for Making Marriage Work:...</td>\n",
       "      <td>NaN</td>\n",
       "      <td>4.19</td>\n",
       "      <td>8868</td>\n",
       "      <td>10017</td>\n",
       "      <td>749</td>\n",
       "      <td>126</td>\n",
       "      <td>334</td>\n",
       "      <td>1604</td>\n",
       "      <td>3446</td>\n",
       "      <td>4507</td>\n",
       "      <td>https://images.gr-assets.com/books/1320521960m...</td>\n",
       "      <td>https://images.gr-assets.com/books/1320521960s...</td>\n",
       "    </tr>\n",
       "    <tr>\n",
       "      <th>9973</th>\n",
       "      <td>9974</td>\n",
       "      <td>116494</td>\n",
       "      <td>827585</td>\n",
       "      <td>38</td>\n",
       "      <td>9.780553e+12</td>\n",
       "      <td>Lois Lowry</td>\n",
       "      <td>1978.0</td>\n",
       "      <td>Anastasia Krupnik (Anastasia Krupnik, #1)</td>\n",
       "      <td>NaN</td>\n",
       "      <td>3.89</td>\n",
       "      <td>11914</td>\n",
       "      <td>12519</td>\n",
       "      <td>389</td>\n",
       "      <td>440</td>\n",
       "      <td>603</td>\n",
       "      <td>3062</td>\n",
       "      <td>4185</td>\n",
       "      <td>4229</td>\n",
       "      <td>https://images.gr-assets.com/books/1476942137m...</td>\n",
       "      <td>https://images.gr-assets.com/books/1476942137s...</td>\n",
       "    </tr>\n",
       "    <tr>\n",
       "      <th>9976</th>\n",
       "      <td>9977</td>\n",
       "      <td>202948</td>\n",
       "      <td>851165</td>\n",
       "      <td>55</td>\n",
       "      <td>9.780804e+12</td>\n",
       "      <td>Anne Tyler</td>\n",
       "      <td>1995.0</td>\n",
       "      <td>Ladder of Years</td>\n",
       "      <td>NaN</td>\n",
       "      <td>3.72</td>\n",
       "      <td>11209</td>\n",
       "      <td>12229</td>\n",
       "      <td>949</td>\n",
       "      <td>214</td>\n",
       "      <td>854</td>\n",
       "      <td>3714</td>\n",
       "      <td>4827</td>\n",
       "      <td>2620</td>\n",
       "      <td>https://s.gr-assets.com/assets/nophoto/book/11...</td>\n",
       "      <td>https://s.gr-assets.com/assets/nophoto/book/50...</td>\n",
       "    </tr>\n",
       "    <tr>\n",
       "      <th>9985</th>\n",
       "      <td>9986</td>\n",
       "      <td>183092</td>\n",
       "      <td>176939</td>\n",
       "      <td>16</td>\n",
       "      <td>9.780310e+12</td>\n",
       "      <td>Terri Blackstock</td>\n",
       "      <td>2006.0</td>\n",
       "      <td>Night Light (Restoration #2)</td>\n",
       "      <td>NaN</td>\n",
       "      <td>4.35</td>\n",
       "      <td>8471</td>\n",
       "      <td>8862</td>\n",
       "      <td>218</td>\n",
       "      <td>96</td>\n",
       "      <td>172</td>\n",
       "      <td>1115</td>\n",
       "      <td>2658</td>\n",
       "      <td>4821</td>\n",
       "      <td>https://s.gr-assets.com/assets/nophoto/book/11...</td>\n",
       "      <td>https://s.gr-assets.com/assets/nophoto/book/50...</td>\n",
       "    </tr>\n",
       "    <tr>\n",
       "      <th>9999</th>\n",
       "      <td>10000</td>\n",
       "      <td>8914</td>\n",
       "      <td>11817</td>\n",
       "      <td>31</td>\n",
       "      <td>9.780376e+12</td>\n",
       "      <td>John Keegan</td>\n",
       "      <td>1998.0</td>\n",
       "      <td>The First World War</td>\n",
       "      <td>NaN</td>\n",
       "      <td>4.00</td>\n",
       "      <td>9162</td>\n",
       "      <td>9700</td>\n",
       "      <td>364</td>\n",
       "      <td>117</td>\n",
       "      <td>345</td>\n",
       "      <td>2031</td>\n",
       "      <td>4138</td>\n",
       "      <td>3069</td>\n",
       "      <td>https://images.gr-assets.com/books/1403194704m...</td>\n",
       "      <td>https://images.gr-assets.com/books/1403194704s...</td>\n",
       "    </tr>\n",
       "  </tbody>\n",
       "</table>\n",
       "<p>1084 rows × 20 columns</p>\n",
       "</div>"
      ],
      "text/plain": [
       "         id  best_book_id  work_id  books_count        isbn13  \\\n",
       "44       45          4214  1392700          264  9.780770e+12   \n",
       "131     132          3431  2561472          123  9.781401e+12   \n",
       "203     204          5326  3097440         2380  9.781562e+12   \n",
       "236     237         10592  1552134          249  9.781417e+12   \n",
       "287     288         19691  1112006          117  9.780425e+12   \n",
       "...     ...           ...      ...          ...           ...   \n",
       "9972   9973        849380     4370           52  9.780610e+12   \n",
       "9973   9974        116494   827585           38  9.780553e+12   \n",
       "9976   9977        202948   851165           55  9.780804e+12   \n",
       "9985   9986        183092   176939           16  9.780310e+12   \n",
       "9999  10000          8914    11817           31  9.780376e+12   \n",
       "\n",
       "                          authors  original_publication_year  \\\n",
       "44                    Yann Martel                     2001.0   \n",
       "131                   Mitch Albom                     2003.0   \n",
       "203               Charles Dickens                     1843.0   \n",
       "236                  Stephen King                     1974.0   \n",
       "287                    Tom Clancy                     1984.0   \n",
       "...                           ...                        ...   \n",
       "9972  John M. Gottman, Nan Silver                     1999.0   \n",
       "9973                   Lois Lowry                     1978.0   \n",
       "9976                   Anne Tyler                     1995.0   \n",
       "9985             Terri Blackstock                     2006.0   \n",
       "9999                  John Keegan                     1998.0   \n",
       "\n",
       "                                                  title language_code  \\\n",
       "44                                           Life of Pi           NaN   \n",
       "131                  The Five People You Meet in Heaven           NaN   \n",
       "203                                   A Christmas Carol           NaN   \n",
       "236                                              Carrie           NaN   \n",
       "287   The Hunt for Red October (Jack Ryan Universe, #4)           NaN   \n",
       "...                                                 ...           ...   \n",
       "9972  The Seven Principles for Making Marriage Work:...           NaN   \n",
       "9973          Anastasia Krupnik (Anastasia Krupnik, #1)           NaN   \n",
       "9976                                    Ladder of Years           NaN   \n",
       "9985                       Night Light (Restoration #2)           NaN   \n",
       "9999                                The First World War           NaN   \n",
       "\n",
       "      average_rating  ratings_count  work_ratings_count  \\\n",
       "44              3.88        1003228             1077431   \n",
       "131             3.90         449501              474699   \n",
       "203             4.02         394540              441396   \n",
       "236             3.93         356814              377650   \n",
       "287             4.01         270318              278255   \n",
       "...              ...            ...                 ...   \n",
       "9972            4.19           8868               10017   \n",
       "9973            3.89          11914               12519   \n",
       "9976            3.72          11209               12229   \n",
       "9985            4.35           8471                8862   \n",
       "9999            4.00           9162                9700   \n",
       "\n",
       "      work_text_reviews_count  ratings_1  ratings_2  ratings_3  ratings_4  \\\n",
       "44                      42962      39768      74331     218702     384164   \n",
       "131                     16682      12360      33669     107800     155830   \n",
       "203                     11568       6737      21415      93906     153823   \n",
       "236                      8264       4564      19479      96352     136054   \n",
       "287                      2117       9470      13707      49906      95296   \n",
       "...                       ...        ...        ...        ...        ...   \n",
       "9972                      749        126        334       1604       3446   \n",
       "9973                      389        440        603       3062       4185   \n",
       "9976                      949        214        854       3714       4827   \n",
       "9985                      218         96        172       1115       2658   \n",
       "9999                      364        117        345       2031       4138   \n",
       "\n",
       "      ratings_5                                          image_url  \\\n",
       "44       360466  https://images.gr-assets.com/books/1320562005m...   \n",
       "131      165040  https://s.gr-assets.com/assets/nophoto/book/11...   \n",
       "203      165515  https://images.gr-assets.com/books/1406512317m...   \n",
       "236      121201  https://s.gr-assets.com/assets/nophoto/book/11...   \n",
       "287      109876  https://images.gr-assets.com/books/1281995542m...   \n",
       "...         ...                                                ...   \n",
       "9972       4507  https://images.gr-assets.com/books/1320521960m...   \n",
       "9973       4229  https://images.gr-assets.com/books/1476942137m...   \n",
       "9976       2620  https://s.gr-assets.com/assets/nophoto/book/11...   \n",
       "9985       4821  https://s.gr-assets.com/assets/nophoto/book/11...   \n",
       "9999       3069  https://images.gr-assets.com/books/1403194704m...   \n",
       "\n",
       "                                        small_image_url  \n",
       "44    https://images.gr-assets.com/books/1320562005s...  \n",
       "131   https://s.gr-assets.com/assets/nophoto/book/50...  \n",
       "203   https://images.gr-assets.com/books/1406512317s...  \n",
       "236   https://s.gr-assets.com/assets/nophoto/book/50...  \n",
       "287   https://images.gr-assets.com/books/1281995542s...  \n",
       "...                                                 ...  \n",
       "9972  https://images.gr-assets.com/books/1320521960s...  \n",
       "9973  https://images.gr-assets.com/books/1476942137s...  \n",
       "9976  https://s.gr-assets.com/assets/nophoto/book/50...  \n",
       "9985  https://s.gr-assets.com/assets/nophoto/book/50...  \n",
       "9999  https://images.gr-assets.com/books/1403194704s...  \n",
       "\n",
       "[1084 rows x 20 columns]"
      ]
     },
     "execution_count": 239,
     "metadata": {},
     "output_type": "execute_result"
    }
   ],
   "source": [
    "nan_in_col"
   ]
  },
  {
   "cell_type": "markdown",
   "metadata": {},
   "source": [
    "### As from the above analysis we can see that 1084 rows have null values. This number of data is huge and cannot be ignored.\n",
    "\n",
    "### To solve this problem, lets take a small subset of data from the large dataset. \n",
    "### In the below example I am taking the subset of data whose author is 'Charles Dickens'"
   ]
  },
  {
   "cell_type": "code",
   "execution_count": 282,
   "metadata": {},
   "outputs": [
    {
     "data": {
      "text/html": [
       "<div>\n",
       "<style scoped>\n",
       "    .dataframe tbody tr th:only-of-type {\n",
       "        vertical-align: middle;\n",
       "    }\n",
       "\n",
       "    .dataframe tbody tr th {\n",
       "        vertical-align: top;\n",
       "    }\n",
       "\n",
       "    .dataframe thead th {\n",
       "        text-align: right;\n",
       "    }\n",
       "</style>\n",
       "<table border=\"1\" class=\"dataframe\">\n",
       "  <thead>\n",
       "    <tr style=\"text-align: right;\">\n",
       "      <th></th>\n",
       "      <th>id</th>\n",
       "      <th>best_book_id</th>\n",
       "      <th>work_id</th>\n",
       "      <th>books_count</th>\n",
       "      <th>isbn13</th>\n",
       "      <th>authors</th>\n",
       "      <th>original_publication_year</th>\n",
       "      <th>title</th>\n",
       "      <th>language_code</th>\n",
       "      <th>average_rating</th>\n",
       "      <th>ratings_count</th>\n",
       "      <th>work_ratings_count</th>\n",
       "      <th>work_text_reviews_count</th>\n",
       "      <th>ratings_1</th>\n",
       "      <th>ratings_2</th>\n",
       "      <th>ratings_3</th>\n",
       "      <th>ratings_4</th>\n",
       "      <th>ratings_5</th>\n",
       "      <th>image_url</th>\n",
       "      <th>small_image_url</th>\n",
       "    </tr>\n",
       "  </thead>\n",
       "  <tbody>\n",
       "    <tr>\n",
       "      <th>159</th>\n",
       "      <td>160</td>\n",
       "      <td>2623</td>\n",
       "      <td>2612809</td>\n",
       "      <td>1725</td>\n",
       "      <td>9.780193e+12</td>\n",
       "      <td>Charles Dickens</td>\n",
       "      <td>1860.0</td>\n",
       "      <td>Great Expectations</td>\n",
       "      <td>eng</td>\n",
       "      <td>3.75</td>\n",
       "      <td>459247</td>\n",
       "      <td>507187</td>\n",
       "      <td>12311</td>\n",
       "      <td>22811</td>\n",
       "      <td>44293</td>\n",
       "      <td>120385</td>\n",
       "      <td>170702</td>\n",
       "      <td>148996</td>\n",
       "      <td>https://images.gr-assets.com/books/1327920219m...</td>\n",
       "      <td>https://images.gr-assets.com/books/1327920219s...</td>\n",
       "    </tr>\n",
       "    <tr>\n",
       "      <th>203</th>\n",
       "      <td>204</td>\n",
       "      <td>5326</td>\n",
       "      <td>3097440</td>\n",
       "      <td>2380</td>\n",
       "      <td>9.781562e+12</td>\n",
       "      <td>Charles Dickens</td>\n",
       "      <td>1843.0</td>\n",
       "      <td>A Christmas Carol</td>\n",
       "      <td>NaN</td>\n",
       "      <td>4.02</td>\n",
       "      <td>394540</td>\n",
       "      <td>441396</td>\n",
       "      <td>11568</td>\n",
       "      <td>6737</td>\n",
       "      <td>21415</td>\n",
       "      <td>93906</td>\n",
       "      <td>153823</td>\n",
       "      <td>165515</td>\n",
       "      <td>https://images.gr-assets.com/books/1406512317m...</td>\n",
       "      <td>https://images.gr-assets.com/books/1406512317s...</td>\n",
       "    </tr>\n",
       "    <tr>\n",
       "      <th>2845</th>\n",
       "      <td>2846</td>\n",
       "      <td>5344</td>\n",
       "      <td>6751955</td>\n",
       "      <td>773</td>\n",
       "      <td>9.780321e+12</td>\n",
       "      <td>Charles Dickens</td>\n",
       "      <td>1854.0</td>\n",
       "      <td>Hard Times</td>\n",
       "      <td>eng</td>\n",
       "      <td>3.50</td>\n",
       "      <td>34675</td>\n",
       "      <td>42170</td>\n",
       "      <td>2098</td>\n",
       "      <td>1604</td>\n",
       "      <td>4753</td>\n",
       "      <td>14259</td>\n",
       "      <td>13967</td>\n",
       "      <td>7587</td>\n",
       "      <td>https://s.gr-assets.com/assets/nophoto/book/11...</td>\n",
       "      <td>https://s.gr-assets.com/assets/nophoto/book/50...</td>\n",
       "    </tr>\n",
       "    <tr>\n",
       "      <th>5871</th>\n",
       "      <td>5872</td>\n",
       "      <td>9748274</td>\n",
       "      <td>14637456</td>\n",
       "      <td>33</td>\n",
       "      <td>9.780142e+12</td>\n",
       "      <td>Charles Dickens</td>\n",
       "      <td>NaN</td>\n",
       "      <td>A Tale of Two Cities / Great Expectations</td>\n",
       "      <td>en-US</td>\n",
       "      <td>3.98</td>\n",
       "      <td>14912</td>\n",
       "      <td>15072</td>\n",
       "      <td>179</td>\n",
       "      <td>445</td>\n",
       "      <td>904</td>\n",
       "      <td>2935</td>\n",
       "      <td>5051</td>\n",
       "      <td>5737</td>\n",
       "      <td>https://s.gr-assets.com/assets/nophoto/book/11...</td>\n",
       "      <td>https://s.gr-assets.com/assets/nophoto/book/50...</td>\n",
       "    </tr>\n",
       "    <tr>\n",
       "      <th>5906</th>\n",
       "      <td>5907</td>\n",
       "      <td>31244</td>\n",
       "      <td>2888469</td>\n",
       "      <td>378</td>\n",
       "      <td>9.780376e+12</td>\n",
       "      <td>Charles Dickens</td>\n",
       "      <td>1865.0</td>\n",
       "      <td>Our Mutual Friend</td>\n",
       "      <td>eng</td>\n",
       "      <td>4.07</td>\n",
       "      <td>18599</td>\n",
       "      <td>20659</td>\n",
       "      <td>1102</td>\n",
       "      <td>434</td>\n",
       "      <td>986</td>\n",
       "      <td>3803</td>\n",
       "      <td>6936</td>\n",
       "      <td>8500</td>\n",
       "      <td>https://images.gr-assets.com/books/1403189244m...</td>\n",
       "      <td>https://images.gr-assets.com/books/1403189244s...</td>\n",
       "    </tr>\n",
       "    <tr>\n",
       "      <th>6189</th>\n",
       "      <td>6190</td>\n",
       "      <td>229432</td>\n",
       "      <td>3315230</td>\n",
       "      <td>615</td>\n",
       "      <td>9.780140e+12</td>\n",
       "      <td>Charles Dickens</td>\n",
       "      <td>1837.0</td>\n",
       "      <td>The Pickwick Papers</td>\n",
       "      <td>eng</td>\n",
       "      <td>3.82</td>\n",
       "      <td>17080</td>\n",
       "      <td>20011</td>\n",
       "      <td>1175</td>\n",
       "      <td>537</td>\n",
       "      <td>1496</td>\n",
       "      <td>5076</td>\n",
       "      <td>6842</td>\n",
       "      <td>6060</td>\n",
       "      <td>https://images.gr-assets.com/books/1360795072m...</td>\n",
       "      <td>https://images.gr-assets.com/books/1360795072s...</td>\n",
       "    </tr>\n",
       "  </tbody>\n",
       "</table>\n",
       "</div>"
      ],
      "text/plain": [
       "        id  best_book_id   work_id  books_count        isbn13  \\\n",
       "159    160          2623   2612809         1725  9.780193e+12   \n",
       "203    204          5326   3097440         2380  9.781562e+12   \n",
       "2845  2846          5344   6751955          773  9.780321e+12   \n",
       "5871  5872       9748274  14637456           33  9.780142e+12   \n",
       "5906  5907         31244   2888469          378  9.780376e+12   \n",
       "6189  6190        229432   3315230          615  9.780140e+12   \n",
       "\n",
       "              authors  original_publication_year  \\\n",
       "159   Charles Dickens                     1860.0   \n",
       "203   Charles Dickens                     1843.0   \n",
       "2845  Charles Dickens                     1854.0   \n",
       "5871  Charles Dickens                        NaN   \n",
       "5906  Charles Dickens                     1865.0   \n",
       "6189  Charles Dickens                     1837.0   \n",
       "\n",
       "                                          title language_code  average_rating  \\\n",
       "159                          Great Expectations           eng            3.75   \n",
       "203                           A Christmas Carol           NaN            4.02   \n",
       "2845                                 Hard Times           eng            3.50   \n",
       "5871  A Tale of Two Cities / Great Expectations         en-US            3.98   \n",
       "5906                          Our Mutual Friend           eng            4.07   \n",
       "6189                        The Pickwick Papers           eng            3.82   \n",
       "\n",
       "      ratings_count  work_ratings_count  work_text_reviews_count  ratings_1  \\\n",
       "159          459247              507187                    12311      22811   \n",
       "203          394540              441396                    11568       6737   \n",
       "2845          34675               42170                     2098       1604   \n",
       "5871          14912               15072                      179        445   \n",
       "5906          18599               20659                     1102        434   \n",
       "6189          17080               20011                     1175        537   \n",
       "\n",
       "      ratings_2  ratings_3  ratings_4  ratings_5  \\\n",
       "159       44293     120385     170702     148996   \n",
       "203       21415      93906     153823     165515   \n",
       "2845       4753      14259      13967       7587   \n",
       "5871        904       2935       5051       5737   \n",
       "5906        986       3803       6936       8500   \n",
       "6189       1496       5076       6842       6060   \n",
       "\n",
       "                                              image_url  \\\n",
       "159   https://images.gr-assets.com/books/1327920219m...   \n",
       "203   https://images.gr-assets.com/books/1406512317m...   \n",
       "2845  https://s.gr-assets.com/assets/nophoto/book/11...   \n",
       "5871  https://s.gr-assets.com/assets/nophoto/book/11...   \n",
       "5906  https://images.gr-assets.com/books/1403189244m...   \n",
       "6189  https://images.gr-assets.com/books/1360795072m...   \n",
       "\n",
       "                                        small_image_url  \n",
       "159   https://images.gr-assets.com/books/1327920219s...  \n",
       "203   https://images.gr-assets.com/books/1406512317s...  \n",
       "2845  https://s.gr-assets.com/assets/nophoto/book/50...  \n",
       "5871  https://s.gr-assets.com/assets/nophoto/book/50...  \n",
       "5906  https://images.gr-assets.com/books/1403189244s...  \n",
       "6189  https://images.gr-assets.com/books/1360795072s...  "
      ]
     },
     "execution_count": 282,
     "metadata": {},
     "output_type": "execute_result"
    }
   ],
   "source": [
    "charlesDickens = books_data[books_data['authors']=='Charles Dickens']\n",
    "charlesDickens"
   ]
  },
  {
   "cell_type": "markdown",
   "metadata": {},
   "source": [
    "### Applying the lambda function to replace the null values with the languages of the author who have written any other book in the dataset. We can pick the language code from any other book written by the author and can replace the null values. \n",
    "\n",
    "### Just like we have done for Charles Dickens, The book with title 'The Christmas Carol' was missing the language code in the above dataset, but from the dataset we know Charles Dickens has written multiple books in English. So we will impute the values and replace the null values with the language code of the mode value obtained. \n",
    "\n",
    "### This way  we were able to retrieve around 50% of the missing values from the dataset."
   ]
  },
  {
   "cell_type": "code",
   "execution_count": 283,
   "metadata": {},
   "outputs": [],
   "source": [
    "books_data['language_code'].fillna('unknown',inplace=True)\n",
    "books_data['language_code'] = books_data.groupby('authors')['language_code'].transform(lambda x: x.replace('unknown',(x.mode()[0])))"
   ]
  },
  {
   "cell_type": "markdown",
   "metadata": {},
   "source": [
    "### Now checking the data of Charles Dickens again we can see that the author of A Christmas Carol is imputed correctly"
   ]
  },
  {
   "cell_type": "code",
   "execution_count": 284,
   "metadata": {
    "scrolled": true
   },
   "outputs": [
    {
     "data": {
      "text/html": [
       "<div>\n",
       "<style scoped>\n",
       "    .dataframe tbody tr th:only-of-type {\n",
       "        vertical-align: middle;\n",
       "    }\n",
       "\n",
       "    .dataframe tbody tr th {\n",
       "        vertical-align: top;\n",
       "    }\n",
       "\n",
       "    .dataframe thead th {\n",
       "        text-align: right;\n",
       "    }\n",
       "</style>\n",
       "<table border=\"1\" class=\"dataframe\">\n",
       "  <thead>\n",
       "    <tr style=\"text-align: right;\">\n",
       "      <th></th>\n",
       "      <th>id</th>\n",
       "      <th>best_book_id</th>\n",
       "      <th>work_id</th>\n",
       "      <th>books_count</th>\n",
       "      <th>isbn13</th>\n",
       "      <th>authors</th>\n",
       "      <th>original_publication_year</th>\n",
       "      <th>title</th>\n",
       "      <th>language_code</th>\n",
       "      <th>average_rating</th>\n",
       "      <th>ratings_count</th>\n",
       "      <th>work_ratings_count</th>\n",
       "      <th>work_text_reviews_count</th>\n",
       "      <th>ratings_1</th>\n",
       "      <th>ratings_2</th>\n",
       "      <th>ratings_3</th>\n",
       "      <th>ratings_4</th>\n",
       "      <th>ratings_5</th>\n",
       "      <th>image_url</th>\n",
       "      <th>small_image_url</th>\n",
       "    </tr>\n",
       "  </thead>\n",
       "  <tbody>\n",
       "    <tr>\n",
       "      <th>159</th>\n",
       "      <td>160</td>\n",
       "      <td>2623</td>\n",
       "      <td>2612809</td>\n",
       "      <td>1725</td>\n",
       "      <td>9.780193e+12</td>\n",
       "      <td>Charles Dickens</td>\n",
       "      <td>1860.0</td>\n",
       "      <td>Great Expectations</td>\n",
       "      <td>eng</td>\n",
       "      <td>3.75</td>\n",
       "      <td>459247</td>\n",
       "      <td>507187</td>\n",
       "      <td>12311</td>\n",
       "      <td>22811</td>\n",
       "      <td>44293</td>\n",
       "      <td>120385</td>\n",
       "      <td>170702</td>\n",
       "      <td>148996</td>\n",
       "      <td>https://images.gr-assets.com/books/1327920219m...</td>\n",
       "      <td>https://images.gr-assets.com/books/1327920219s...</td>\n",
       "    </tr>\n",
       "    <tr>\n",
       "      <th>203</th>\n",
       "      <td>204</td>\n",
       "      <td>5326</td>\n",
       "      <td>3097440</td>\n",
       "      <td>2380</td>\n",
       "      <td>9.781562e+12</td>\n",
       "      <td>Charles Dickens</td>\n",
       "      <td>1843.0</td>\n",
       "      <td>A Christmas Carol</td>\n",
       "      <td>eng</td>\n",
       "      <td>4.02</td>\n",
       "      <td>394540</td>\n",
       "      <td>441396</td>\n",
       "      <td>11568</td>\n",
       "      <td>6737</td>\n",
       "      <td>21415</td>\n",
       "      <td>93906</td>\n",
       "      <td>153823</td>\n",
       "      <td>165515</td>\n",
       "      <td>https://images.gr-assets.com/books/1406512317m...</td>\n",
       "      <td>https://images.gr-assets.com/books/1406512317s...</td>\n",
       "    </tr>\n",
       "    <tr>\n",
       "      <th>2845</th>\n",
       "      <td>2846</td>\n",
       "      <td>5344</td>\n",
       "      <td>6751955</td>\n",
       "      <td>773</td>\n",
       "      <td>9.780321e+12</td>\n",
       "      <td>Charles Dickens</td>\n",
       "      <td>1854.0</td>\n",
       "      <td>Hard Times</td>\n",
       "      <td>eng</td>\n",
       "      <td>3.50</td>\n",
       "      <td>34675</td>\n",
       "      <td>42170</td>\n",
       "      <td>2098</td>\n",
       "      <td>1604</td>\n",
       "      <td>4753</td>\n",
       "      <td>14259</td>\n",
       "      <td>13967</td>\n",
       "      <td>7587</td>\n",
       "      <td>https://s.gr-assets.com/assets/nophoto/book/11...</td>\n",
       "      <td>https://s.gr-assets.com/assets/nophoto/book/50...</td>\n",
       "    </tr>\n",
       "    <tr>\n",
       "      <th>5871</th>\n",
       "      <td>5872</td>\n",
       "      <td>9748274</td>\n",
       "      <td>14637456</td>\n",
       "      <td>33</td>\n",
       "      <td>9.780142e+12</td>\n",
       "      <td>Charles Dickens</td>\n",
       "      <td>NaN</td>\n",
       "      <td>A Tale of Two Cities / Great Expectations</td>\n",
       "      <td>en-US</td>\n",
       "      <td>3.98</td>\n",
       "      <td>14912</td>\n",
       "      <td>15072</td>\n",
       "      <td>179</td>\n",
       "      <td>445</td>\n",
       "      <td>904</td>\n",
       "      <td>2935</td>\n",
       "      <td>5051</td>\n",
       "      <td>5737</td>\n",
       "      <td>https://s.gr-assets.com/assets/nophoto/book/11...</td>\n",
       "      <td>https://s.gr-assets.com/assets/nophoto/book/50...</td>\n",
       "    </tr>\n",
       "    <tr>\n",
       "      <th>5906</th>\n",
       "      <td>5907</td>\n",
       "      <td>31244</td>\n",
       "      <td>2888469</td>\n",
       "      <td>378</td>\n",
       "      <td>9.780376e+12</td>\n",
       "      <td>Charles Dickens</td>\n",
       "      <td>1865.0</td>\n",
       "      <td>Our Mutual Friend</td>\n",
       "      <td>eng</td>\n",
       "      <td>4.07</td>\n",
       "      <td>18599</td>\n",
       "      <td>20659</td>\n",
       "      <td>1102</td>\n",
       "      <td>434</td>\n",
       "      <td>986</td>\n",
       "      <td>3803</td>\n",
       "      <td>6936</td>\n",
       "      <td>8500</td>\n",
       "      <td>https://images.gr-assets.com/books/1403189244m...</td>\n",
       "      <td>https://images.gr-assets.com/books/1403189244s...</td>\n",
       "    </tr>\n",
       "    <tr>\n",
       "      <th>6189</th>\n",
       "      <td>6190</td>\n",
       "      <td>229432</td>\n",
       "      <td>3315230</td>\n",
       "      <td>615</td>\n",
       "      <td>9.780140e+12</td>\n",
       "      <td>Charles Dickens</td>\n",
       "      <td>1837.0</td>\n",
       "      <td>The Pickwick Papers</td>\n",
       "      <td>eng</td>\n",
       "      <td>3.82</td>\n",
       "      <td>17080</td>\n",
       "      <td>20011</td>\n",
       "      <td>1175</td>\n",
       "      <td>537</td>\n",
       "      <td>1496</td>\n",
       "      <td>5076</td>\n",
       "      <td>6842</td>\n",
       "      <td>6060</td>\n",
       "      <td>https://images.gr-assets.com/books/1360795072m...</td>\n",
       "      <td>https://images.gr-assets.com/books/1360795072s...</td>\n",
       "    </tr>\n",
       "  </tbody>\n",
       "</table>\n",
       "</div>"
      ],
      "text/plain": [
       "        id  best_book_id   work_id  books_count        isbn13  \\\n",
       "159    160          2623   2612809         1725  9.780193e+12   \n",
       "203    204          5326   3097440         2380  9.781562e+12   \n",
       "2845  2846          5344   6751955          773  9.780321e+12   \n",
       "5871  5872       9748274  14637456           33  9.780142e+12   \n",
       "5906  5907         31244   2888469          378  9.780376e+12   \n",
       "6189  6190        229432   3315230          615  9.780140e+12   \n",
       "\n",
       "              authors  original_publication_year  \\\n",
       "159   Charles Dickens                     1860.0   \n",
       "203   Charles Dickens                     1843.0   \n",
       "2845  Charles Dickens                     1854.0   \n",
       "5871  Charles Dickens                        NaN   \n",
       "5906  Charles Dickens                     1865.0   \n",
       "6189  Charles Dickens                     1837.0   \n",
       "\n",
       "                                          title language_code  average_rating  \\\n",
       "159                          Great Expectations           eng            3.75   \n",
       "203                           A Christmas Carol           eng            4.02   \n",
       "2845                                 Hard Times           eng            3.50   \n",
       "5871  A Tale of Two Cities / Great Expectations         en-US            3.98   \n",
       "5906                          Our Mutual Friend           eng            4.07   \n",
       "6189                        The Pickwick Papers           eng            3.82   \n",
       "\n",
       "      ratings_count  work_ratings_count  work_text_reviews_count  ratings_1  \\\n",
       "159          459247              507187                    12311      22811   \n",
       "203          394540              441396                    11568       6737   \n",
       "2845          34675               42170                     2098       1604   \n",
       "5871          14912               15072                      179        445   \n",
       "5906          18599               20659                     1102        434   \n",
       "6189          17080               20011                     1175        537   \n",
       "\n",
       "      ratings_2  ratings_3  ratings_4  ratings_5  \\\n",
       "159       44293     120385     170702     148996   \n",
       "203       21415      93906     153823     165515   \n",
       "2845       4753      14259      13967       7587   \n",
       "5871        904       2935       5051       5737   \n",
       "5906        986       3803       6936       8500   \n",
       "6189       1496       5076       6842       6060   \n",
       "\n",
       "                                              image_url  \\\n",
       "159   https://images.gr-assets.com/books/1327920219m...   \n",
       "203   https://images.gr-assets.com/books/1406512317m...   \n",
       "2845  https://s.gr-assets.com/assets/nophoto/book/11...   \n",
       "5871  https://s.gr-assets.com/assets/nophoto/book/11...   \n",
       "5906  https://images.gr-assets.com/books/1403189244m...   \n",
       "6189  https://images.gr-assets.com/books/1360795072m...   \n",
       "\n",
       "                                        small_image_url  \n",
       "159   https://images.gr-assets.com/books/1327920219s...  \n",
       "203   https://images.gr-assets.com/books/1406512317s...  \n",
       "2845  https://s.gr-assets.com/assets/nophoto/book/50...  \n",
       "5871  https://s.gr-assets.com/assets/nophoto/book/50...  \n",
       "5906  https://images.gr-assets.com/books/1403189244s...  \n",
       "6189  https://images.gr-assets.com/books/1360795072s...  "
      ]
     },
     "execution_count": 284,
     "metadata": {},
     "output_type": "execute_result"
    }
   ],
   "source": [
    "charlesDickens = books_data[books_data['authors']=='Charles Dickens']\n",
    "charlesDickens"
   ]
  },
  {
   "cell_type": "markdown",
   "metadata": {},
   "source": [
    "### Now checking the values that are still marked us 'unknown'"
   ]
  },
  {
   "cell_type": "code",
   "execution_count": 285,
   "metadata": {},
   "outputs": [
    {
     "data": {
      "text/plain": [
       "(584, 20)"
      ]
     },
     "execution_count": 285,
     "metadata": {},
     "output_type": "execute_result"
    }
   ],
   "source": [
    "unk = books_data[books_data['language_code']=='unknown']\n",
    "unk.shape"
   ]
  },
  {
   "cell_type": "markdown",
   "metadata": {},
   "source": [
    "### Since we have 584 values still marked as unknown, we will try and impute using the title of the book just in case there are some multiple entries of the same book"
   ]
  },
  {
   "cell_type": "code",
   "execution_count": 286,
   "metadata": {},
   "outputs": [],
   "source": [
    "books_data['language_code'] = books_data.groupby('title')['language_code'].transform(lambda x: x.replace('unknown',(x.mode()[0])))"
   ]
  },
  {
   "cell_type": "markdown",
   "metadata": {},
   "source": [
    "### Now checking the shape of the dataset again"
   ]
  },
  {
   "cell_type": "code",
   "execution_count": 287,
   "metadata": {},
   "outputs": [
    {
     "data": {
      "text/plain": [
       "(576, 20)"
      ]
     },
     "execution_count": 287,
     "metadata": {},
     "output_type": "execute_result"
    }
   ],
   "source": [
    "unk = books_data[books_data['language_code']=='unknown']\n",
    "unk.shape"
   ]
  },
  {
   "cell_type": "markdown",
   "metadata": {},
   "source": [
    "### Now imputing the same with the image url and checking the shape again"
   ]
  },
  {
   "cell_type": "code",
   "execution_count": 288,
   "metadata": {},
   "outputs": [],
   "source": [
    "books_data['language_code'] = books_data.groupby('image_url')['language_code'].transform(lambda x: x.replace('unknown',(x.mode()[0])))"
   ]
  },
  {
   "cell_type": "code",
   "execution_count": 289,
   "metadata": {},
   "outputs": [
    {
     "data": {
      "text/plain": [
       "(267, 20)"
      ]
     },
     "execution_count": 289,
     "metadata": {},
     "output_type": "execute_result"
    }
   ],
   "source": [
    "unk = books_data[books_data['language_code']=='unknown']\n",
    "unk.shape"
   ]
  },
  {
   "cell_type": "markdown",
   "metadata": {},
   "source": [
    "### Now finally we were able to bring down the null values count to 267 from a count of 1000+"
   ]
  },
  {
   "cell_type": "code",
   "execution_count": 255,
   "metadata": {},
   "outputs": [
    {
     "data": {
      "text/plain": [
       "<AxesSubplot:>"
      ]
     },
     "execution_count": 255,
     "metadata": {},
     "output_type": "execute_result"
    },
    {
     "data": {
      "image/png": "[encoded data removed]",
      "text/plain": [
       "<Figure size 1800x720 with 2 Axes>"
      ]
     },
     "metadata": {
      "needs_background": "light"
     },
     "output_type": "display_data"
    }
   ],
   "source": [
    "msno.matrix(books_data)"
   ]
  },
  {
   "cell_type": "code",
   "execution_count": null,
   "metadata": {},
   "outputs": [],
   "source": [
    "# old_names = ['id', 'book_id', 'best_book_id', 'work_id', 'books_count','isbn','isbn13','authors','original_publication_year','original_title'] \n",
    "# new_names = ['a', 'b', 'c', 'd', 'e']\n",
    "# df.rename(columns=dict(zip(old_names, new_names)), inplace=True)\n",
    "# df.rename(columns={'oldName1': 'newName1', 'oldName2': 'newName2'}, inplace=True)"
   ]
  },
  {
   "cell_type": "code",
   "execution_count": 9,
   "metadata": {
    "colab": {
     "base_uri": "https://localhost:8080/",
     "height": 206
    },
    "executionInfo": {
     "elapsed": 150,
     "status": "ok",
     "timestamp": 1651446137799,
     "user": {
      "displayName": "Chetan Nain",
      "userId": "01702144228733672979"
     },
     "user_tz": 420
    },
    "id": "W1r9Hk5Q3AcK",
    "outputId": "5ee3c487-d4ee-44a8-9cdb-f6d77227a0a0"
   },
   "outputs": [
    {
     "data": {
      "text/html": [
       "<div>\n",
       "<style scoped>\n",
       "    .dataframe tbody tr th:only-of-type {\n",
       "        vertical-align: middle;\n",
       "    }\n",
       "\n",
       "    .dataframe tbody tr th {\n",
       "        vertical-align: top;\n",
       "    }\n",
       "\n",
       "    .dataframe thead th {\n",
       "        text-align: right;\n",
       "    }\n",
       "</style>\n",
       "<table border=\"1\" class=\"dataframe\">\n",
       "  <thead>\n",
       "    <tr style=\"text-align: right;\">\n",
       "      <th></th>\n",
       "      <th>book_id</th>\n",
       "      <th>user_id</th>\n",
       "      <th>rating</th>\n",
       "    </tr>\n",
       "  </thead>\n",
       "  <tbody>\n",
       "    <tr>\n",
       "      <th>0</th>\n",
       "      <td>1</td>\n",
       "      <td>314</td>\n",
       "      <td>5</td>\n",
       "    </tr>\n",
       "    <tr>\n",
       "      <th>1</th>\n",
       "      <td>1</td>\n",
       "      <td>439</td>\n",
       "      <td>3</td>\n",
       "    </tr>\n",
       "    <tr>\n",
       "      <th>2</th>\n",
       "      <td>1</td>\n",
       "      <td>588</td>\n",
       "      <td>5</td>\n",
       "    </tr>\n",
       "    <tr>\n",
       "      <th>3</th>\n",
       "      <td>1</td>\n",
       "      <td>1169</td>\n",
       "      <td>4</td>\n",
       "    </tr>\n",
       "    <tr>\n",
       "      <th>4</th>\n",
       "      <td>1</td>\n",
       "      <td>1185</td>\n",
       "      <td>4</td>\n",
       "    </tr>\n",
       "  </tbody>\n",
       "</table>\n",
       "</div>"
      ],
      "text/plain": [
       "   book_id  user_id  rating\n",
       "0        1      314       5\n",
       "1        1      439       3\n",
       "2        1      588       5\n",
       "3        1     1169       4\n",
       "4        1     1185       4"
      ]
     },
     "execution_count": 9,
     "metadata": {},
     "output_type": "execute_result"
    }
   ],
   "source": [
    "ratings_data.head()"
   ]
  },
  {
   "cell_type": "code",
   "execution_count": 10,
   "metadata": {
    "colab": {
     "base_uri": "https://localhost:8080/"
    },
    "executionInfo": {
     "elapsed": 247,
     "status": "ok",
     "timestamp": 1651446284010,
     "user": {
      "displayName": "Chetan Nain",
      "userId": "01702144228733672979"
     },
     "user_tz": 420
    },
    "id": "hyYLjXQU3loV",
    "outputId": "f00f600e-9842-44bf-b5f0-ecc331d3a7cc"
   },
   "outputs": [
    {
     "data": {
      "text/plain": [
       "(981756, 3)"
      ]
     },
     "execution_count": 10,
     "metadata": {},
     "output_type": "execute_result"
    }
   ],
   "source": [
    "ratings_data.shape"
   ]
  },
  {
   "cell_type": "code",
   "execution_count": 17,
   "metadata": {},
   "outputs": [
    {
     "data": {
      "text/plain": [
       "book_id    0\n",
       "user_id    0\n",
       "rating     0\n",
       "dtype: int64"
      ]
     },
     "execution_count": 17,
     "metadata": {},
     "output_type": "execute_result"
    }
   ],
   "source": [
    "ratings_data.isnull().sum()"
   ]
  },
  {
   "cell_type": "code",
   "execution_count": 11,
   "metadata": {
    "colab": {
     "base_uri": "https://localhost:8080/",
     "height": 206
    },
    "executionInfo": {
     "elapsed": 165,
     "status": "ok",
     "timestamp": 1651446148356,
     "user": {
      "displayName": "Chetan Nain",
      "userId": "01702144228733672979"
     },
     "user_tz": 420
    },
    "id": "fqF-3aDk3EFw",
    "outputId": "eec2d6c9-d6e1-42a8-9832-f0526da321d3"
   },
   "outputs": [
    {
     "data": {
      "text/html": [
       "<div>\n",
       "<style scoped>\n",
       "    .dataframe tbody tr th:only-of-type {\n",
       "        vertical-align: middle;\n",
       "    }\n",
       "\n",
       "    .dataframe tbody tr th {\n",
       "        vertical-align: top;\n",
       "    }\n",
       "\n",
       "    .dataframe thead th {\n",
       "        text-align: right;\n",
       "    }\n",
       "</style>\n",
       "<table border=\"1\" class=\"dataframe\">\n",
       "  <thead>\n",
       "    <tr style=\"text-align: right;\">\n",
       "      <th></th>\n",
       "      <th>goodreads_book_id</th>\n",
       "      <th>tag_id</th>\n",
       "      <th>count</th>\n",
       "    </tr>\n",
       "  </thead>\n",
       "  <tbody>\n",
       "    <tr>\n",
       "      <th>0</th>\n",
       "      <td>1</td>\n",
       "      <td>30574</td>\n",
       "      <td>167697</td>\n",
       "    </tr>\n",
       "    <tr>\n",
       "      <th>1</th>\n",
       "      <td>1</td>\n",
       "      <td>11305</td>\n",
       "      <td>37174</td>\n",
       "    </tr>\n",
       "    <tr>\n",
       "      <th>2</th>\n",
       "      <td>1</td>\n",
       "      <td>11557</td>\n",
       "      <td>34173</td>\n",
       "    </tr>\n",
       "    <tr>\n",
       "      <th>3</th>\n",
       "      <td>1</td>\n",
       "      <td>8717</td>\n",
       "      <td>12986</td>\n",
       "    </tr>\n",
       "    <tr>\n",
       "      <th>4</th>\n",
       "      <td>1</td>\n",
       "      <td>33114</td>\n",
       "      <td>12716</td>\n",
       "    </tr>\n",
       "  </tbody>\n",
       "</table>\n",
       "</div>"
      ],
      "text/plain": [
       "   goodreads_book_id  tag_id   count\n",
       "0                  1   30574  167697\n",
       "1                  1   11305   37174\n",
       "2                  1   11557   34173\n",
       "3                  1    8717   12986\n",
       "4                  1   33114   12716"
      ]
     },
     "execution_count": 11,
     "metadata": {},
     "output_type": "execute_result"
    }
   ],
   "source": [
    "book_tags_data.head()"
   ]
  },
  {
   "cell_type": "code",
   "execution_count": 12,
   "metadata": {
    "colab": {
     "base_uri": "https://localhost:8080/"
    },
    "executionInfo": {
     "elapsed": 208,
     "status": "ok",
     "timestamp": 1651446300046,
     "user": {
      "displayName": "Chetan Nain",
      "userId": "01702144228733672979"
     },
     "user_tz": 420
    },
    "id": "ozb8DqBg3o0M",
    "outputId": "66905c0a-00fb-49ab-ac59-308cbbb28f66"
   },
   "outputs": [
    {
     "data": {
      "text/plain": [
       "(999912, 3)"
      ]
     },
     "execution_count": 12,
     "metadata": {},
     "output_type": "execute_result"
    }
   ],
   "source": [
    "book_tags_data.shape"
   ]
  },
  {
   "cell_type": "code",
   "execution_count": 19,
   "metadata": {},
   "outputs": [
    {
     "data": {
      "text/plain": [
       "goodreads_book_id    0\n",
       "tag_id               0\n",
       "count                0\n",
       "dtype: int64"
      ]
     },
     "execution_count": 19,
     "metadata": {},
     "output_type": "execute_result"
    }
   ],
   "source": [
    "book_tags_data.isnull().sum()"
   ]
  },
  {
   "cell_type": "code",
   "execution_count": 13,
   "metadata": {
    "colab": {
     "base_uri": "https://localhost:8080/",
     "height": 206
    },
    "executionInfo": {
     "elapsed": 17,
     "status": "ok",
     "timestamp": 1651446152360,
     "user": {
      "displayName": "Chetan Nain",
      "userId": "01702144228733672979"
     },
     "user_tz": 420
    },
    "id": "NuB69xcu3Gpy",
    "outputId": "fc96c37d-314a-42f4-e34d-9ae2a8d5e40f"
   },
   "outputs": [
    {
     "data": {
      "text/html": [
       "<div>\n",
       "<style scoped>\n",
       "    .dataframe tbody tr th:only-of-type {\n",
       "        vertical-align: middle;\n",
       "    }\n",
       "\n",
       "    .dataframe tbody tr th {\n",
       "        vertical-align: top;\n",
       "    }\n",
       "\n",
       "    .dataframe thead th {\n",
       "        text-align: right;\n",
       "    }\n",
       "</style>\n",
       "<table border=\"1\" class=\"dataframe\">\n",
       "  <thead>\n",
       "    <tr style=\"text-align: right;\">\n",
       "      <th></th>\n",
       "      <th>tag_id</th>\n",
       "      <th>tag_name</th>\n",
       "    </tr>\n",
       "  </thead>\n",
       "  <tbody>\n",
       "    <tr>\n",
       "      <th>0</th>\n",
       "      <td>0</td>\n",
       "      <td>-</td>\n",
       "    </tr>\n",
       "    <tr>\n",
       "      <th>1</th>\n",
       "      <td>1</td>\n",
       "      <td>--1-</td>\n",
       "    </tr>\n",
       "    <tr>\n",
       "      <th>2</th>\n",
       "      <td>2</td>\n",
       "      <td>--10-</td>\n",
       "    </tr>\n",
       "    <tr>\n",
       "      <th>3</th>\n",
       "      <td>3</td>\n",
       "      <td>--12-</td>\n",
       "    </tr>\n",
       "    <tr>\n",
       "      <th>4</th>\n",
       "      <td>4</td>\n",
       "      <td>--122-</td>\n",
       "    </tr>\n",
       "  </tbody>\n",
       "</table>\n",
       "</div>"
      ],
      "text/plain": [
       "   tag_id tag_name\n",
       "0       0        -\n",
       "1       1     --1-\n",
       "2       2    --10-\n",
       "3       3    --12-\n",
       "4       4   --122-"
      ]
     },
     "execution_count": 13,
     "metadata": {},
     "output_type": "execute_result"
    }
   ],
   "source": [
    "tags_data.head()"
   ]
  },
  {
   "cell_type": "code",
   "execution_count": 14,
   "metadata": {
    "colab": {
     "base_uri": "https://localhost:8080/"
    },
    "executionInfo": {
     "elapsed": 3,
     "status": "ok",
     "timestamp": 1651446309773,
     "user": {
      "displayName": "Chetan Nain",
      "userId": "01702144228733672979"
     },
     "user_tz": 420
    },
    "id": "8uRf6tA_3tHN",
    "outputId": "643c8097-3655-4c8e-8573-d0eaf15f8104"
   },
   "outputs": [
    {
     "data": {
      "text/plain": [
       "(34252, 2)"
      ]
     },
     "execution_count": 14,
     "metadata": {},
     "output_type": "execute_result"
    }
   ],
   "source": [
    "tags_data.shape"
   ]
  },
  {
   "cell_type": "code",
   "execution_count": 18,
   "metadata": {},
   "outputs": [
    {
     "data": {
      "text/plain": [
       "tag_id      0\n",
       "tag_name    0\n",
       "dtype: int64"
      ]
     },
     "execution_count": 18,
     "metadata": {},
     "output_type": "execute_result"
    }
   ],
   "source": [
    "tags_data.isnull().sum()"
   ]
  },
  {
   "cell_type": "markdown",
   "metadata": {},
   "source": [
    "## Authors"
   ]
  },
  {
   "cell_type": "markdown",
   "metadata": {},
   "source": [
    "## Cleaning the data for multiple authors so that the authors that are comma separated can be  splitted into multiple rows. This way they can come under proper analysis."
   ]
  },
  {
   "cell_type": "markdown",
   "metadata": {},
   "source": [
    "### Lets start with counting the total number of books by every author"
   ]
  },
  {
   "cell_type": "code",
   "execution_count": 83,
   "metadata": {},
   "outputs": [
    {
     "data": {
      "text/plain": [
       "Stephen King                                                                                                                                                                                                                              60\n",
       "Nora Roberts                                                                                                                                                                                                                              59\n",
       "Dean Koontz                                                                                                                                                                                                                               47\n",
       "Terry Pratchett                                                                                                                                                                                                                           42\n",
       "Agatha Christie                                                                                                                                                                                                                           39\n",
       "                                                                                                                                                                                                                                          ..\n",
       "Ildefonso Falcones                                                                                                                                                                                                                         1\n",
       "Jon Stewart, Rory Albanese, Kevin Bleyer, Rich Bloomquist, Steve Bodow, Tim Carvell, Wyatt Cenac, Hallie Haglund, J.R. Havlan, David Javerbaum, Elliott Kalan, Josh Lieb, Sam Means, Jo Miller, John Oliver, Daniel Radosh, Jason Ross     1\n",
       "G. Norman Lippert                                                                                                                                                                                                                          1\n",
       "Brother Andrew, Elizabeth Sherrill, John Sherrill                                                                                                                                                                                          1\n",
       "John Keegan                                                                                                                                                                                                                                1\n",
       "Name: authors, Length: 4664, dtype: int64"
      ]
     },
     "execution_count": 83,
     "metadata": {},
     "output_type": "execute_result"
    }
   ],
   "source": [
    "books_data['authors'].value_counts()"
   ]
  },
  {
   "cell_type": "markdown",
   "metadata": {},
   "source": [
    "### Now from the above analysis we can see that the author Dean Koontz have written 47 books. But this may not be correct as the script is picking up only those books which have only Dean Koontz as author and not the books where Dean Koontz is a co-author"
   ]
  },
  {
   "cell_type": "markdown",
   "metadata": {},
   "source": [
    "### The below script will help us picking up values where Dean Koontz is a co author as well."
   ]
  },
  {
   "cell_type": "code",
   "execution_count": 290,
   "metadata": {},
   "outputs": [
    {
     "data": {
      "text/plain": [
       "['Dean Koontz',\n",
       " 'Dean Koontz',\n",
       " 'Dean Koontz',\n",
       " 'Dean Koontz',\n",
       " 'Dean Koontz',\n",
       " 'Dean Koontz',\n",
       " 'Dean Koontz',\n",
       " 'Dean Koontz',\n",
       " 'Dean Koontz',\n",
       " 'Dean Koontz',\n",
       " 'Dean Koontz',\n",
       " 'Richard Paige, Dean Koontz',\n",
       " 'Dean Koontz',\n",
       " 'Dean Koontz',\n",
       " 'Dean Koontz',\n",
       " 'Dean Koontz, Kevin J. Anderson, Chuck Dixon, Brett Booth',\n",
       " 'Dean Koontz',\n",
       " 'Dean Koontz',\n",
       " 'Dean Koontz',\n",
       " 'Dean Koontz, Kevin J. Anderson, Scott Brick',\n",
       " 'Dean Koontz',\n",
       " 'Dean Koontz',\n",
       " 'Dean Koontz',\n",
       " 'Dean Koontz',\n",
       " 'Leigh Nichols, Dean Koontz',\n",
       " 'Dean Koontz, Keith Szarabajka',\n",
       " 'Dean Koontz',\n",
       " 'Dean Koontz',\n",
       " 'Dean Koontz',\n",
       " 'Dean Koontz',\n",
       " 'Dean Koontz',\n",
       " 'Dean Koontz',\n",
       " 'Dean Koontz',\n",
       " 'Dean Koontz',\n",
       " 'Dean Koontz',\n",
       " 'Dean Koontz',\n",
       " 'Dean Koontz, Leigh Nichols',\n",
       " 'Dean Koontz',\n",
       " 'Owen  West, Dean Koontz',\n",
       " 'Dean Koontz',\n",
       " 'Dean Koontz, Ed Gorman, John Bedford Lloyd',\n",
       " 'Dean Koontz',\n",
       " 'K.R. Dwyer, Dean Koontz',\n",
       " 'Dean Koontz',\n",
       " 'Dean Koontz',\n",
       " 'Dean Koontz',\n",
       " 'Dean Koontz',\n",
       " 'Dean Koontz',\n",
       " 'Leigh Nichols, Dean Koontz',\n",
       " 'Leigh Nichols, Dean Koontz',\n",
       " 'David Axton, Dean Koontz',\n",
       " 'Leigh Nichols, Dean Koontz',\n",
       " 'Dean Koontz',\n",
       " 'Dean Koontz',\n",
       " 'Owen  West, Dean Koontz',\n",
       " 'Brian Coffey, Dean Koontz',\n",
       " 'Dean Koontz',\n",
       " 'Dean Koontz',\n",
       " 'Dean Koontz',\n",
       " 'Leigh Nichols, Dean Koontz',\n",
       " 'Dean Koontz',\n",
       " 'Brian Coffey, Dean Koontz',\n",
       " 'Dean Koontz',\n",
       " 'Dean Koontz']"
      ]
     },
     "execution_count": 290,
     "metadata": {},
     "output_type": "execute_result"
    }
   ],
   "source": [
    "DKBooks = []\n",
    "books_data['authors'].apply(lambda p: DKBooks.append(p) if 'Dean Koontz' in p else [])\n",
    "DKBooks"
   ]
  },
  {
   "cell_type": "markdown",
   "metadata": {},
   "source": [
    "### So as per the actual analysis, the total books published by Dean Koontz is 64"
   ]
  },
  {
   "cell_type": "code",
   "execution_count": 87,
   "metadata": {},
   "outputs": [
    {
     "data": {
      "text/plain": [
       "64"
      ]
     },
     "execution_count": 87,
     "metadata": {},
     "output_type": "execute_result"
    }
   ],
   "source": [
    "len(DKBooks)"
   ]
  },
  {
   "cell_type": "markdown",
   "metadata": {},
   "source": [
    "### The total number of books by multiple authors in the dataset are"
   ]
  },
  {
   "cell_type": "code",
   "execution_count": 109,
   "metadata": {},
   "outputs": [
    {
     "data": {
      "text/plain": [
       "2079"
      ]
     },
     "execution_count": 109,
     "metadata": {},
     "output_type": "execute_result"
    }
   ],
   "source": [
    "len(auth_books)"
   ]
  },
  {
   "cell_type": "markdown",
   "metadata": {},
   "source": [
    "### Trying to figure out the actual number of books written by a specific author so that it can be included in analysis"
   ]
  },
  {
   "cell_type": "code",
   "execution_count": 108,
   "metadata": {},
   "outputs": [
    {
     "data": {
      "text/plain": [
       "['J.K. Rowling, Mary GrandPré',\n",
       " 'George Orwell, Erich Fromm, Celâl Üster',\n",
       " 'Anne Frank, Eleanor Roosevelt, B.M. Mooyaart-Doubleday',\n",
       " 'Stieg Larsson, Reg Keeland',\n",
       " 'J.K. Rowling, Mary GrandPré, Rufus Beck',\n",
       " 'J.K. Rowling, Mary GrandPré',\n",
       " 'J.K. Rowling, Mary GrandPré',\n",
       " 'J.K. Rowling, Mary GrandPré',\n",
       " 'J.K. Rowling, Mary GrandPré',\n",
       " 'J.K. Rowling, Mary GrandPré',\n",
       " 'William Shakespeare, Robert           Jackson',\n",
       " 'Paulo Coelho, Alan R. Clarke',\n",
       " 'Charlotte Brontë, Michael Mason',\n",
       " 'Mark Twain, John Seelye, Guy Cardwell',\n",
       " 'E.B. White, Garth Williams, Rosemary Wells',\n",
       " 'Emily Brontë, Richard J. Dunn',\n",
       " 'Mary Wollstonecraft Shelley, Percy Bysshe Shelley, Maurice Hindle',\n",
       " 'Jane Austen, Tony Tanner, Ros Ballaster',\n",
       " 'Louis Sachar, Louis Sachar',\n",
       " 'Homer, Robert Fagles, E.V. Rieu, Frédéric Mugler, Bernard Knox']"
      ]
     },
     "execution_count": 108,
     "metadata": {},
     "output_type": "execute_result"
    }
   ],
   "source": [
    "auth_books = []\n",
    "books_data.authors.apply(lambda p: auth_books.append(p) if ',' in p else [])\n",
    "auth_books[:20]"
   ]
  },
  {
   "cell_type": "markdown",
   "metadata": {},
   "source": [
    "### Splitting the data with comma separated values and then removing the actual author column and joining with the new splitted column"
   ]
  },
  {
   "cell_type": "code",
   "execution_count": 291,
   "metadata": {},
   "outputs": [],
   "source": [
    "splittedData = books_data['authors'].str.split(',').apply(Series, 1).stack()"
   ]
  },
  {
   "cell_type": "code",
   "execution_count": 292,
   "metadata": {},
   "outputs": [],
   "source": [
    "splittedData.index = splittedData.index.droplevel(-1)"
   ]
  },
  {
   "cell_type": "code",
   "execution_count": 293,
   "metadata": {},
   "outputs": [],
   "source": [
    "splittedData.name = 'authors'"
   ]
  },
  {
   "cell_type": "code",
   "execution_count": 294,
   "metadata": {},
   "outputs": [],
   "source": [
    "del books_data['authors']"
   ]
  },
  {
   "cell_type": "code",
   "execution_count": 295,
   "metadata": {},
   "outputs": [],
   "source": [
    "books_data=books_data.join(splittedData)"
   ]
  },
  {
   "cell_type": "code",
   "execution_count": 296,
   "metadata": {},
   "outputs": [
    {
     "data": {
      "text/html": [
       "<div>\n",
       "<style scoped>\n",
       "    .dataframe tbody tr th:only-of-type {\n",
       "        vertical-align: middle;\n",
       "    }\n",
       "\n",
       "    .dataframe tbody tr th {\n",
       "        vertical-align: top;\n",
       "    }\n",
       "\n",
       "    .dataframe thead th {\n",
       "        text-align: right;\n",
       "    }\n",
       "</style>\n",
       "<table border=\"1\" class=\"dataframe\">\n",
       "  <thead>\n",
       "    <tr style=\"text-align: right;\">\n",
       "      <th></th>\n",
       "      <th>id</th>\n",
       "      <th>best_book_id</th>\n",
       "      <th>work_id</th>\n",
       "      <th>books_count</th>\n",
       "      <th>isbn13</th>\n",
       "      <th>original_publication_year</th>\n",
       "      <th>title</th>\n",
       "      <th>language_code</th>\n",
       "      <th>average_rating</th>\n",
       "      <th>ratings_count</th>\n",
       "      <th>work_ratings_count</th>\n",
       "      <th>work_text_reviews_count</th>\n",
       "      <th>ratings_1</th>\n",
       "      <th>ratings_2</th>\n",
       "      <th>ratings_3</th>\n",
       "      <th>ratings_4</th>\n",
       "      <th>ratings_5</th>\n",
       "      <th>image_url</th>\n",
       "      <th>small_image_url</th>\n",
       "      <th>authors</th>\n",
       "    </tr>\n",
       "  </thead>\n",
       "  <tbody>\n",
       "    <tr>\n",
       "      <th>0</th>\n",
       "      <td>1</td>\n",
       "      <td>2767052</td>\n",
       "      <td>2792775</td>\n",
       "      <td>272</td>\n",
       "      <td>9.780439e+12</td>\n",
       "      <td>2008.0</td>\n",
       "      <td>The Hunger Games (The Hunger Games, #1)</td>\n",
       "      <td>eng</td>\n",
       "      <td>4.34</td>\n",
       "      <td>4780653</td>\n",
       "      <td>4942365</td>\n",
       "      <td>155254</td>\n",
       "      <td>66715</td>\n",
       "      <td>127936</td>\n",
       "      <td>560092</td>\n",
       "      <td>1481305</td>\n",
       "      <td>2706317</td>\n",
       "      <td>https://images.gr-assets.com/books/1447303603m...</td>\n",
       "      <td>https://images.gr-assets.com/books/1447303603s...</td>\n",
       "      <td>Suzanne Collins</td>\n",
       "    </tr>\n",
       "    <tr>\n",
       "      <th>1</th>\n",
       "      <td>2</td>\n",
       "      <td>3</td>\n",
       "      <td>4640799</td>\n",
       "      <td>491</td>\n",
       "      <td>9.780440e+12</td>\n",
       "      <td>1997.0</td>\n",
       "      <td>Harry Potter and the Sorcerer's Stone (Harry P...</td>\n",
       "      <td>eng</td>\n",
       "      <td>4.44</td>\n",
       "      <td>4602479</td>\n",
       "      <td>4800065</td>\n",
       "      <td>75867</td>\n",
       "      <td>75504</td>\n",
       "      <td>101676</td>\n",
       "      <td>455024</td>\n",
       "      <td>1156318</td>\n",
       "      <td>3011543</td>\n",
       "      <td>https://images.gr-assets.com/books/1474154022m...</td>\n",
       "      <td>https://images.gr-assets.com/books/1474154022s...</td>\n",
       "      <td>J.K. Rowling</td>\n",
       "    </tr>\n",
       "    <tr>\n",
       "      <th>1</th>\n",
       "      <td>2</td>\n",
       "      <td>3</td>\n",
       "      <td>4640799</td>\n",
       "      <td>491</td>\n",
       "      <td>9.780440e+12</td>\n",
       "      <td>1997.0</td>\n",
       "      <td>Harry Potter and the Sorcerer's Stone (Harry P...</td>\n",
       "      <td>eng</td>\n",
       "      <td>4.44</td>\n",
       "      <td>4602479</td>\n",
       "      <td>4800065</td>\n",
       "      <td>75867</td>\n",
       "      <td>75504</td>\n",
       "      <td>101676</td>\n",
       "      <td>455024</td>\n",
       "      <td>1156318</td>\n",
       "      <td>3011543</td>\n",
       "      <td>https://images.gr-assets.com/books/1474154022m...</td>\n",
       "      <td>https://images.gr-assets.com/books/1474154022s...</td>\n",
       "      <td>Mary GrandPré</td>\n",
       "    </tr>\n",
       "    <tr>\n",
       "      <th>2</th>\n",
       "      <td>3</td>\n",
       "      <td>41865</td>\n",
       "      <td>3212258</td>\n",
       "      <td>226</td>\n",
       "      <td>9.780316e+12</td>\n",
       "      <td>2005.0</td>\n",
       "      <td>Twilight (Twilight, #1)</td>\n",
       "      <td>en-US</td>\n",
       "      <td>3.57</td>\n",
       "      <td>3866839</td>\n",
       "      <td>3916824</td>\n",
       "      <td>95009</td>\n",
       "      <td>456191</td>\n",
       "      <td>436802</td>\n",
       "      <td>793319</td>\n",
       "      <td>875073</td>\n",
       "      <td>1355439</td>\n",
       "      <td>https://images.gr-assets.com/books/1361039443m...</td>\n",
       "      <td>https://images.gr-assets.com/books/1361039443s...</td>\n",
       "      <td>Stephenie Meyer</td>\n",
       "    </tr>\n",
       "    <tr>\n",
       "      <th>3</th>\n",
       "      <td>4</td>\n",
       "      <td>2657</td>\n",
       "      <td>3275794</td>\n",
       "      <td>487</td>\n",
       "      <td>9.780061e+12</td>\n",
       "      <td>1960.0</td>\n",
       "      <td>To Kill a Mockingbird</td>\n",
       "      <td>eng</td>\n",
       "      <td>4.25</td>\n",
       "      <td>3198671</td>\n",
       "      <td>3340896</td>\n",
       "      <td>72586</td>\n",
       "      <td>60427</td>\n",
       "      <td>117415</td>\n",
       "      <td>446835</td>\n",
       "      <td>1001952</td>\n",
       "      <td>1714267</td>\n",
       "      <td>https://images.gr-assets.com/books/1361975680m...</td>\n",
       "      <td>https://images.gr-assets.com/books/1361975680s...</td>\n",
       "      <td>Harper Lee</td>\n",
       "    </tr>\n",
       "    <tr>\n",
       "      <th>...</th>\n",
       "      <td>...</td>\n",
       "      <td>...</td>\n",
       "      <td>...</td>\n",
       "      <td>...</td>\n",
       "      <td>...</td>\n",
       "      <td>...</td>\n",
       "      <td>...</td>\n",
       "      <td>...</td>\n",
       "      <td>...</td>\n",
       "      <td>...</td>\n",
       "      <td>...</td>\n",
       "      <td>...</td>\n",
       "      <td>...</td>\n",
       "      <td>...</td>\n",
       "      <td>...</td>\n",
       "      <td>...</td>\n",
       "      <td>...</td>\n",
       "      <td>...</td>\n",
       "      <td>...</td>\n",
       "      <td>...</td>\n",
       "    </tr>\n",
       "    <tr>\n",
       "      <th>9995</th>\n",
       "      <td>9996</td>\n",
       "      <td>7130616</td>\n",
       "      <td>7392860</td>\n",
       "      <td>19</td>\n",
       "      <td>9.780441e+12</td>\n",
       "      <td>2010.0</td>\n",
       "      <td>Bayou Moon (The Edge, #2)</td>\n",
       "      <td>eng</td>\n",
       "      <td>4.09</td>\n",
       "      <td>17204</td>\n",
       "      <td>18856</td>\n",
       "      <td>1180</td>\n",
       "      <td>105</td>\n",
       "      <td>575</td>\n",
       "      <td>3538</td>\n",
       "      <td>7860</td>\n",
       "      <td>6778</td>\n",
       "      <td>https://images.gr-assets.com/books/1307445460m...</td>\n",
       "      <td>https://images.gr-assets.com/books/1307445460s...</td>\n",
       "      <td>Ilona Andrews</td>\n",
       "    </tr>\n",
       "    <tr>\n",
       "      <th>9996</th>\n",
       "      <td>9997</td>\n",
       "      <td>208324</td>\n",
       "      <td>1084709</td>\n",
       "      <td>19</td>\n",
       "      <td>9.780680e+12</td>\n",
       "      <td>1990.0</td>\n",
       "      <td>Means of Ascent (The Years of Lyndon Johnson, #2)</td>\n",
       "      <td>eng</td>\n",
       "      <td>4.25</td>\n",
       "      <td>12582</td>\n",
       "      <td>12952</td>\n",
       "      <td>395</td>\n",
       "      <td>303</td>\n",
       "      <td>551</td>\n",
       "      <td>1737</td>\n",
       "      <td>3389</td>\n",
       "      <td>6972</td>\n",
       "      <td>https://s.gr-assets.com/assets/nophoto/book/11...</td>\n",
       "      <td>https://s.gr-assets.com/assets/nophoto/book/50...</td>\n",
       "      <td>Robert A. Caro</td>\n",
       "    </tr>\n",
       "    <tr>\n",
       "      <th>9997</th>\n",
       "      <td>9998</td>\n",
       "      <td>77431</td>\n",
       "      <td>2393986</td>\n",
       "      <td>60</td>\n",
       "      <td>9.780393e+12</td>\n",
       "      <td>1977.0</td>\n",
       "      <td>The Mauritius Command</td>\n",
       "      <td>eng</td>\n",
       "      <td>4.35</td>\n",
       "      <td>9421</td>\n",
       "      <td>10733</td>\n",
       "      <td>374</td>\n",
       "      <td>11</td>\n",
       "      <td>111</td>\n",
       "      <td>1191</td>\n",
       "      <td>4240</td>\n",
       "      <td>5180</td>\n",
       "      <td>https://images.gr-assets.com/books/1455373531m...</td>\n",
       "      <td>https://images.gr-assets.com/books/1455373531s...</td>\n",
       "      <td>Patrick O'Brian</td>\n",
       "    </tr>\n",
       "    <tr>\n",
       "      <th>9998</th>\n",
       "      <td>9999</td>\n",
       "      <td>8565083</td>\n",
       "      <td>13433613</td>\n",
       "      <td>7</td>\n",
       "      <td>9.780062e+12</td>\n",
       "      <td>2011.0</td>\n",
       "      <td>Cinderella Ate My Daughter: Dispatches from th...</td>\n",
       "      <td>eng</td>\n",
       "      <td>3.65</td>\n",
       "      <td>11279</td>\n",
       "      <td>11994</td>\n",
       "      <td>1988</td>\n",
       "      <td>275</td>\n",
       "      <td>1002</td>\n",
       "      <td>3765</td>\n",
       "      <td>4577</td>\n",
       "      <td>2375</td>\n",
       "      <td>https://images.gr-assets.com/books/1279214118m...</td>\n",
       "      <td>https://images.gr-assets.com/books/1279214118s...</td>\n",
       "      <td>Peggy Orenstein</td>\n",
       "    </tr>\n",
       "    <tr>\n",
       "      <th>9999</th>\n",
       "      <td>10000</td>\n",
       "      <td>8914</td>\n",
       "      <td>11817</td>\n",
       "      <td>31</td>\n",
       "      <td>9.780376e+12</td>\n",
       "      <td>1998.0</td>\n",
       "      <td>The First World War</td>\n",
       "      <td>unknown</td>\n",
       "      <td>4.00</td>\n",
       "      <td>9162</td>\n",
       "      <td>9700</td>\n",
       "      <td>364</td>\n",
       "      <td>117</td>\n",
       "      <td>345</td>\n",
       "      <td>2031</td>\n",
       "      <td>4138</td>\n",
       "      <td>3069</td>\n",
       "      <td>https://images.gr-assets.com/books/1403194704m...</td>\n",
       "      <td>https://images.gr-assets.com/books/1403194704s...</td>\n",
       "      <td>John Keegan</td>\n",
       "    </tr>\n",
       "  </tbody>\n",
       "</table>\n",
       "<p>13216 rows × 20 columns</p>\n",
       "</div>"
      ],
      "text/plain": [
       "         id  best_book_id   work_id  books_count        isbn13  \\\n",
       "0         1       2767052   2792775          272  9.780439e+12   \n",
       "1         2             3   4640799          491  9.780440e+12   \n",
       "1         2             3   4640799          491  9.780440e+12   \n",
       "2         3         41865   3212258          226  9.780316e+12   \n",
       "3         4          2657   3275794          487  9.780061e+12   \n",
       "...     ...           ...       ...          ...           ...   \n",
       "9995   9996       7130616   7392860           19  9.780441e+12   \n",
       "9996   9997        208324   1084709           19  9.780680e+12   \n",
       "9997   9998         77431   2393986           60  9.780393e+12   \n",
       "9998   9999       8565083  13433613            7  9.780062e+12   \n",
       "9999  10000          8914     11817           31  9.780376e+12   \n",
       "\n",
       "      original_publication_year  \\\n",
       "0                        2008.0   \n",
       "1                        1997.0   \n",
       "1                        1997.0   \n",
       "2                        2005.0   \n",
       "3                        1960.0   \n",
       "...                         ...   \n",
       "9995                     2010.0   \n",
       "9996                     1990.0   \n",
       "9997                     1977.0   \n",
       "9998                     2011.0   \n",
       "9999                     1998.0   \n",
       "\n",
       "                                                  title language_code  \\\n",
       "0               The Hunger Games (The Hunger Games, #1)           eng   \n",
       "1     Harry Potter and the Sorcerer's Stone (Harry P...           eng   \n",
       "1     Harry Potter and the Sorcerer's Stone (Harry P...           eng   \n",
       "2                               Twilight (Twilight, #1)         en-US   \n",
       "3                                 To Kill a Mockingbird           eng   \n",
       "...                                                 ...           ...   \n",
       "9995                          Bayou Moon (The Edge, #2)           eng   \n",
       "9996  Means of Ascent (The Years of Lyndon Johnson, #2)           eng   \n",
       "9997                              The Mauritius Command           eng   \n",
       "9998  Cinderella Ate My Daughter: Dispatches from th...           eng   \n",
       "9999                                The First World War       unknown   \n",
       "\n",
       "      average_rating  ratings_count  work_ratings_count  \\\n",
       "0               4.34        4780653             4942365   \n",
       "1               4.44        4602479             4800065   \n",
       "1               4.44        4602479             4800065   \n",
       "2               3.57        3866839             3916824   \n",
       "3               4.25        3198671             3340896   \n",
       "...              ...            ...                 ...   \n",
       "9995            4.09          17204               18856   \n",
       "9996            4.25          12582               12952   \n",
       "9997            4.35           9421               10733   \n",
       "9998            3.65          11279               11994   \n",
       "9999            4.00           9162                9700   \n",
       "\n",
       "      work_text_reviews_count  ratings_1  ratings_2  ratings_3  ratings_4  \\\n",
       "0                      155254      66715     127936     560092    1481305   \n",
       "1                       75867      75504     101676     455024    1156318   \n",
       "1                       75867      75504     101676     455024    1156318   \n",
       "2                       95009     456191     436802     793319     875073   \n",
       "3                       72586      60427     117415     446835    1001952   \n",
       "...                       ...        ...        ...        ...        ...   \n",
       "9995                     1180        105        575       3538       7860   \n",
       "9996                      395        303        551       1737       3389   \n",
       "9997                      374         11        111       1191       4240   \n",
       "9998                     1988        275       1002       3765       4577   \n",
       "9999                      364        117        345       2031       4138   \n",
       "\n",
       "      ratings_5                                          image_url  \\\n",
       "0       2706317  https://images.gr-assets.com/books/1447303603m...   \n",
       "1       3011543  https://images.gr-assets.com/books/1474154022m...   \n",
       "1       3011543  https://images.gr-assets.com/books/1474154022m...   \n",
       "2       1355439  https://images.gr-assets.com/books/1361039443m...   \n",
       "3       1714267  https://images.gr-assets.com/books/1361975680m...   \n",
       "...         ...                                                ...   \n",
       "9995       6778  https://images.gr-assets.com/books/1307445460m...   \n",
       "9996       6972  https://s.gr-assets.com/assets/nophoto/book/11...   \n",
       "9997       5180  https://images.gr-assets.com/books/1455373531m...   \n",
       "9998       2375  https://images.gr-assets.com/books/1279214118m...   \n",
       "9999       3069  https://images.gr-assets.com/books/1403194704m...   \n",
       "\n",
       "                                        small_image_url          authors  \n",
       "0     https://images.gr-assets.com/books/1447303603s...  Suzanne Collins  \n",
       "1     https://images.gr-assets.com/books/1474154022s...     J.K. Rowling  \n",
       "1     https://images.gr-assets.com/books/1474154022s...    Mary GrandPré  \n",
       "2     https://images.gr-assets.com/books/1361039443s...  Stephenie Meyer  \n",
       "3     https://images.gr-assets.com/books/1361975680s...       Harper Lee  \n",
       "...                                                 ...              ...  \n",
       "9995  https://images.gr-assets.com/books/1307445460s...    Ilona Andrews  \n",
       "9996  https://s.gr-assets.com/assets/nophoto/book/50...   Robert A. Caro  \n",
       "9997  https://images.gr-assets.com/books/1455373531s...  Patrick O'Brian  \n",
       "9998  https://images.gr-assets.com/books/1279214118s...  Peggy Orenstein  \n",
       "9999  https://images.gr-assets.com/books/1403194704s...      John Keegan  \n",
       "\n",
       "[13216 rows x 20 columns]"
      ]
     },
     "execution_count": 296,
     "metadata": {},
     "output_type": "execute_result"
    }
   ],
   "source": [
    "books_data"
   ]
  },
  {
   "cell_type": "markdown",
   "metadata": {},
   "source": [
    "### Now as we can see that the authors data in the dataset is cleaned and now we have authors column splitted into multiple rows so that we have only one author per row.\n",
    "\n",
    "### And this is proved by the following scripts."
   ]
  },
  {
   "cell_type": "code",
   "execution_count": 269,
   "metadata": {},
   "outputs": [
    {
     "data": {
      "text/plain": [
       "[]"
      ]
     },
     "execution_count": 269,
     "metadata": {},
     "output_type": "execute_result"
    }
   ],
   "source": [
    "auth_books = []\n",
    "books_data.authors.apply(lambda p: auth_books.append(p) if ',' in p else [])\n",
    "auth_books[:20]"
   ]
  },
  {
   "cell_type": "code",
   "execution_count": 270,
   "metadata": {},
   "outputs": [
    {
     "data": {
      "text/plain": [
       "0"
      ]
     },
     "execution_count": 270,
     "metadata": {},
     "output_type": "execute_result"
    }
   ],
   "source": [
    "len(auth_books)"
   ]
  },
  {
   "cell_type": "markdown",
   "metadata": {
    "id": "98X4yGSv6yWG"
   },
   "source": [
    "## Data Exploratory Analysis"
   ]
  },
  {
   "cell_type": "markdown",
   "metadata": {},
   "source": [
    "### Understanding the outliars using box plots"
   ]
  },
  {
   "cell_type": "markdown",
   "metadata": {},
   "source": [
    "### Drawing a box plot to understand the spread of average ratings."
   ]
  },
  {
   "cell_type": "code",
   "execution_count": 280,
   "metadata": {},
   "outputs": [
    {
     "data": {
      "text/plain": [
       "<AxesSubplot:>"
      ]
     },
     "execution_count": 280,
     "metadata": {},
     "output_type": "execute_result"
    },
    {
     "data": {
      "image/png": "[encoded data removed]",
      "text/plain": [
       "<Figure size 576x288 with 1 Axes>"
      ]
     },
     "metadata": {
      "needs_background": "light"
     },
     "output_type": "display_data"
    }
   ],
   "source": [
    "plt.figure(figsize=(8,4))\n",
    "sns.boxplot(data=books_data['average_rating'])"
   ]
  },
  {
   "cell_type": "markdown",
   "metadata": {},
   "source": [
    "### Drawing a box plot for understanding the spread of publication year."
   ]
  },
  {
   "cell_type": "code",
   "execution_count": 105,
   "metadata": {},
   "outputs": [
    {
     "data": {
      "text/plain": [
       "<AxesSubplot:>"
      ]
     },
     "execution_count": 105,
     "metadata": {},
     "output_type": "execute_result"
    },
    {
     "data": {
      "image/png": "[encoded data removed]",
      "text/plain": [
       "<Figure size 576x288 with 1 Axes>"
      ]
     },
     "metadata": {
      "needs_background": "light"
     },
     "output_type": "display_data"
    }
   ],
   "source": [
    "plt.figure(figsize=(8,4))\n",
    "sns.boxplot(data=books_data['original_publication_year'])"
   ]
  },
  {
   "cell_type": "markdown",
   "metadata": {},
   "source": [
    "### Drawing a scatter plot for understanding the distribution of ratings_5 vs average_ratings"
   ]
  },
  {
   "cell_type": "code",
   "execution_count": 70,
   "metadata": {},
   "outputs": [
    {
     "data": {
      "text/plain": [
       "<seaborn.axisgrid.FacetGrid at 0x7fada6cf8460>"
      ]
     },
     "execution_count": 70,
     "metadata": {},
     "output_type": "execute_result"
    },
    {
     "data": {
      "text/plain": [
       "<Figure size 2016x720 with 0 Axes>"
      ]
     },
     "metadata": {},
     "output_type": "display_data"
    },
    {
     "data": {
      "image/png": "[encoded data removed]",
      "text/plain": [
       "<Figure size 360x360 with 1 Axes>"
      ]
     },
     "metadata": {},
     "output_type": "display_data"
    }
   ],
   "source": [
    "plt.figure(figsize=(28,10))\n",
    "sns.lmplot(x='average_rating', y='ratings_5', data=books_data)"
   ]
  },
  {
   "cell_type": "markdown",
   "metadata": {
    "id": "JDPbBHeX7KBv"
   },
   "source": [
    "### Sorting data according to the average ratings"
   ]
  },
  {
   "cell_type": "code",
   "execution_count": 56,
   "metadata": {
    "colab": {
     "base_uri": "https://localhost:8080/",
     "height": 490
    },
    "executionInfo": {
     "elapsed": 225,
     "status": "ok",
     "timestamp": 1651447384732,
     "user": {
      "displayName": "Chetan Nain",
      "userId": "01702144228733672979"
     },
     "user_tz": 420
    },
    "id": "IDMaaYNQ66X5",
    "outputId": "495bd787-df97-480e-a3fa-a7727c562a5a"
   },
   "outputs": [
    {
     "data": {
      "text/html": [
       "<div>\n",
       "<style scoped>\n",
       "    .dataframe tbody tr th:only-of-type {\n",
       "        vertical-align: middle;\n",
       "    }\n",
       "\n",
       "    .dataframe tbody tr th {\n",
       "        vertical-align: top;\n",
       "    }\n",
       "\n",
       "    .dataframe thead th {\n",
       "        text-align: right;\n",
       "    }\n",
       "</style>\n",
       "<table border=\"1\" class=\"dataframe\">\n",
       "  <thead>\n",
       "    <tr style=\"text-align: right;\">\n",
       "      <th></th>\n",
       "      <th>id</th>\n",
       "      <th>book_id</th>\n",
       "      <th>best_book_id</th>\n",
       "      <th>work_id</th>\n",
       "      <th>books_count</th>\n",
       "      <th>isbn</th>\n",
       "      <th>isbn13</th>\n",
       "      <th>authors</th>\n",
       "      <th>original_publication_year</th>\n",
       "      <th>original_title</th>\n",
       "      <th>...</th>\n",
       "      <th>ratings_count</th>\n",
       "      <th>work_ratings_count</th>\n",
       "      <th>work_text_reviews_count</th>\n",
       "      <th>ratings_1</th>\n",
       "      <th>ratings_2</th>\n",
       "      <th>ratings_3</th>\n",
       "      <th>ratings_4</th>\n",
       "      <th>ratings_5</th>\n",
       "      <th>image_url</th>\n",
       "      <th>small_image_url</th>\n",
       "    </tr>\n",
       "  </thead>\n",
       "  <tbody>\n",
       "    <tr>\n",
       "      <th>3627</th>\n",
       "      <td>3628</td>\n",
       "      <td>24812</td>\n",
       "      <td>24812</td>\n",
       "      <td>25599</td>\n",
       "      <td>14</td>\n",
       "      <td>740748475</td>\n",
       "      <td>9.780741e+12</td>\n",
       "      <td>Bill Watterson</td>\n",
       "      <td>2005.0</td>\n",
       "      <td>The Complete Calvin and Hobbes</td>\n",
       "      <td>...</td>\n",
       "      <td>28900</td>\n",
       "      <td>29968</td>\n",
       "      <td>861</td>\n",
       "      <td>120</td>\n",
       "      <td>154</td>\n",
       "      <td>693</td>\n",
       "      <td>3117</td>\n",
       "      <td>25884</td>\n",
       "      <td>https://images.gr-assets.com/books/1473064526m...</td>\n",
       "      <td>https://images.gr-assets.com/books/1473064526s...</td>\n",
       "    </tr>\n",
       "    <tr>\n",
       "      <th>3274</th>\n",
       "      <td>3275</td>\n",
       "      <td>8</td>\n",
       "      <td>8</td>\n",
       "      <td>21457576</td>\n",
       "      <td>11</td>\n",
       "      <td>439682584</td>\n",
       "      <td>9.780440e+12</td>\n",
       "      <td>J.K. Rowling, Mary GrandPré</td>\n",
       "      <td>2003.0</td>\n",
       "      <td>NaN</td>\n",
       "      <td>...</td>\n",
       "      <td>33220</td>\n",
       "      <td>33424</td>\n",
       "      <td>156</td>\n",
       "      <td>317</td>\n",
       "      <td>233</td>\n",
       "      <td>978</td>\n",
       "      <td>3686</td>\n",
       "      <td>28210</td>\n",
       "      <td>https://s.gr-assets.com/assets/nophoto/book/11...</td>\n",
       "      <td>https://s.gr-assets.com/assets/nophoto/book/50...</td>\n",
       "    </tr>\n",
       "    <tr>\n",
       "      <th>861</th>\n",
       "      <td>862</td>\n",
       "      <td>17332218</td>\n",
       "      <td>17332218</td>\n",
       "      <td>16482835</td>\n",
       "      <td>34</td>\n",
       "      <td>765326361</td>\n",
       "      <td>9.780765e+12</td>\n",
       "      <td>Brandon Sanderson</td>\n",
       "      <td>2014.0</td>\n",
       "      <td>Words of Radiance</td>\n",
       "      <td>...</td>\n",
       "      <td>73572</td>\n",
       "      <td>108176</td>\n",
       "      <td>7261</td>\n",
       "      <td>154</td>\n",
       "      <td>404</td>\n",
       "      <td>2653</td>\n",
       "      <td>18272</td>\n",
       "      <td>86693</td>\n",
       "      <td>https://images.gr-assets.com/books/1391535251m...</td>\n",
       "      <td>https://images.gr-assets.com/books/1391535251s...</td>\n",
       "    </tr>\n",
       "    <tr>\n",
       "      <th>8853</th>\n",
       "      <td>8854</td>\n",
       "      <td>95602</td>\n",
       "      <td>95602</td>\n",
       "      <td>920037</td>\n",
       "      <td>6</td>\n",
       "      <td>842339523</td>\n",
       "      <td>9.780842e+12</td>\n",
       "      <td>Francine Rivers</td>\n",
       "      <td>1993.0</td>\n",
       "      <td>Mark of the Lion Trilogy</td>\n",
       "      <td>...</td>\n",
       "      <td>9081</td>\n",
       "      <td>9547</td>\n",
       "      <td>731</td>\n",
       "      <td>27</td>\n",
       "      <td>61</td>\n",
       "      <td>323</td>\n",
       "      <td>1363</td>\n",
       "      <td>7773</td>\n",
       "      <td>https://images.gr-assets.com/books/1349032180m...</td>\n",
       "      <td>https://images.gr-assets.com/books/1349032180s...</td>\n",
       "    </tr>\n",
       "    <tr>\n",
       "      <th>7946</th>\n",
       "      <td>7947</td>\n",
       "      <td>5031805</td>\n",
       "      <td>5031805</td>\n",
       "      <td>40769318</td>\n",
       "      <td>96</td>\n",
       "      <td>1433502410</td>\n",
       "      <td>9.781434e+12</td>\n",
       "      <td>Anonymous, Lane T. Dennis, Wayne A. Grudem</td>\n",
       "      <td>2002.0</td>\n",
       "      <td>NaN</td>\n",
       "      <td>...</td>\n",
       "      <td>8953</td>\n",
       "      <td>10784</td>\n",
       "      <td>262</td>\n",
       "      <td>98</td>\n",
       "      <td>90</td>\n",
       "      <td>367</td>\n",
       "      <td>1152</td>\n",
       "      <td>9077</td>\n",
       "      <td>https://images.gr-assets.com/books/1410151002m...</td>\n",
       "      <td>https://images.gr-assets.com/books/1410151002s...</td>\n",
       "    </tr>\n",
       "  </tbody>\n",
       "</table>\n",
       "<p>5 rows × 23 columns</p>\n",
       "</div>"
      ],
      "text/plain": [
       "        id   book_id  best_book_id   work_id  books_count        isbn  \\\n",
       "3627  3628     24812         24812     25599           14   740748475   \n",
       "3274  3275         8             8  21457576           11   439682584   \n",
       "861    862  17332218      17332218  16482835           34   765326361   \n",
       "8853  8854     95602         95602    920037            6   842339523   \n",
       "7946  7947   5031805       5031805  40769318           96  1433502410   \n",
       "\n",
       "            isbn13                                     authors  \\\n",
       "3627  9.780741e+12                              Bill Watterson   \n",
       "3274  9.780440e+12                 J.K. Rowling, Mary GrandPré   \n",
       "861   9.780765e+12                           Brandon Sanderson   \n",
       "8853  9.780842e+12                             Francine Rivers   \n",
       "7946  9.781434e+12  Anonymous, Lane T. Dennis, Wayne A. Grudem   \n",
       "\n",
       "      original_publication_year                  original_title  ...  \\\n",
       "3627                     2005.0  The Complete Calvin and Hobbes  ...   \n",
       "3274                     2003.0                             NaN  ...   \n",
       "861                      2014.0               Words of Radiance  ...   \n",
       "8853                     1993.0        Mark of the Lion Trilogy  ...   \n",
       "7946                     2002.0                             NaN  ...   \n",
       "\n",
       "     ratings_count work_ratings_count  work_text_reviews_count  ratings_1  \\\n",
       "3627         28900              29968                      861        120   \n",
       "3274         33220              33424                      156        317   \n",
       "861          73572             108176                     7261        154   \n",
       "8853          9081               9547                      731         27   \n",
       "7946          8953              10784                      262         98   \n",
       "\n",
       "      ratings_2  ratings_3  ratings_4  ratings_5  \\\n",
       "3627        154        693       3117      25884   \n",
       "3274        233        978       3686      28210   \n",
       "861         404       2653      18272      86693   \n",
       "8853         61        323       1363       7773   \n",
       "7946         90        367       1152       9077   \n",
       "\n",
       "                                              image_url  \\\n",
       "3627  https://images.gr-assets.com/books/1473064526m...   \n",
       "3274  https://s.gr-assets.com/assets/nophoto/book/11...   \n",
       "861   https://images.gr-assets.com/books/1391535251m...   \n",
       "8853  https://images.gr-assets.com/books/1349032180m...   \n",
       "7946  https://images.gr-assets.com/books/1410151002m...   \n",
       "\n",
       "                                        small_image_url  \n",
       "3627  https://images.gr-assets.com/books/1473064526s...  \n",
       "3274  https://s.gr-assets.com/assets/nophoto/book/50...  \n",
       "861   https://images.gr-assets.com/books/1391535251s...  \n",
       "8853  https://images.gr-assets.com/books/1349032180s...  \n",
       "7946  https://images.gr-assets.com/books/1410151002s...  \n",
       "\n",
       "[5 rows x 23 columns]"
      ]
     },
     "execution_count": 56,
     "metadata": {},
     "output_type": "execute_result"
    }
   ],
   "source": [
    "sortedData = books_data[books_data['ratings_count']>=1500]\n",
    "sortedData = sortedData.sort_values('average_rating', ascending=False)\n",
    "sortedData.head()"
   ]
  },
  {
   "cell_type": "code",
   "execution_count": 57,
   "metadata": {
    "colab": {
     "base_uri": "https://localhost:8080/",
     "height": 405
    },
    "executionInfo": {
     "elapsed": 749,
     "status": "ok",
     "timestamp": 1651447803608,
     "user": {
      "displayName": "Chetan Nain",
      "userId": "01702144228733672979"
     },
     "user_tz": 420
    },
    "id": "C21uIgoA6-gy",
    "outputId": "a29a95c4-744c-41d1-b675-60963310e344"
   },
   "outputs": [
    {
     "data": {
      "text/plain": [
       "Text(0, 0.5, 'Book Title')"
      ]
     },
     "execution_count": 57,
     "metadata": {},
     "output_type": "execute_result"
    },
    {
     "data": {
      "image/png": "[encoded data removed]",
      "text/plain": [
       "<Figure size 1080x864 with 1 Axes>"
      ]
     },
     "metadata": {},
     "output_type": "display_data"
    }
   ],
   "source": [
    "plt.figure(figsize=(15,12))\n",
    "ax = sns.barplot(x=sortedData['average_rating'].head(15), y=sortedData['title'].head(15), data=sortedData)\n",
    "plt.title('Best ' + str(15) + ' books by ' + 'average_rating'.replace('_',' ').capitalize(), weight='bold')\n",
    "plt.xlabel('Score of ' + 'average_rating')\n",
    "plt.ylabel('Book Title')"
   ]
  },
  {
   "cell_type": "markdown",
   "metadata": {},
   "source": [
    "## Count of books written in different languages"
   ]
  },
  {
   "cell_type": "code",
   "execution_count": 62,
   "metadata": {},
   "outputs": [
    {
     "data": {
      "text/html": [
       "<div>\n",
       "<style scoped>\n",
       "    .dataframe tbody tr th:only-of-type {\n",
       "        vertical-align: middle;\n",
       "    }\n",
       "\n",
       "    .dataframe tbody tr th {\n",
       "        vertical-align: top;\n",
       "    }\n",
       "\n",
       "    .dataframe thead th {\n",
       "        text-align: right;\n",
       "    }\n",
       "</style>\n",
       "<table border=\"1\" class=\"dataframe\">\n",
       "  <thead>\n",
       "    <tr style=\"text-align: right;\">\n",
       "      <th></th>\n",
       "      <th>Total Counts</th>\n",
       "    </tr>\n",
       "  </thead>\n",
       "  <tbody>\n",
       "    <tr>\n",
       "      <th>eng</th>\n",
       "      <td>6341</td>\n",
       "    </tr>\n",
       "    <tr>\n",
       "      <th>en-US</th>\n",
       "      <td>2070</td>\n",
       "    </tr>\n",
       "    <tr>\n",
       "      <th>en-GB</th>\n",
       "      <td>257</td>\n",
       "    </tr>\n",
       "    <tr>\n",
       "      <th>ara</th>\n",
       "      <td>64</td>\n",
       "    </tr>\n",
       "    <tr>\n",
       "      <th>en-CA</th>\n",
       "      <td>58</td>\n",
       "    </tr>\n",
       "    <tr>\n",
       "      <th>fre</th>\n",
       "      <td>25</td>\n",
       "    </tr>\n",
       "    <tr>\n",
       "      <th>ind</th>\n",
       "      <td>21</td>\n",
       "    </tr>\n",
       "    <tr>\n",
       "      <th>spa</th>\n",
       "      <td>20</td>\n",
       "    </tr>\n",
       "    <tr>\n",
       "      <th>ger</th>\n",
       "      <td>13</td>\n",
       "    </tr>\n",
       "    <tr>\n",
       "      <th>per</th>\n",
       "      <td>7</td>\n",
       "    </tr>\n",
       "    <tr>\n",
       "      <th>jpn</th>\n",
       "      <td>7</td>\n",
       "    </tr>\n",
       "    <tr>\n",
       "      <th>pol</th>\n",
       "      <td>6</td>\n",
       "    </tr>\n",
       "    <tr>\n",
       "      <th>por</th>\n",
       "      <td>6</td>\n",
       "    </tr>\n",
       "    <tr>\n",
       "      <th>en</th>\n",
       "      <td>4</td>\n",
       "    </tr>\n",
       "    <tr>\n",
       "      <th>nor</th>\n",
       "      <td>3</td>\n",
       "    </tr>\n",
       "    <tr>\n",
       "      <th>dan</th>\n",
       "      <td>3</td>\n",
       "    </tr>\n",
       "    <tr>\n",
       "      <th>fil</th>\n",
       "      <td>2</td>\n",
       "    </tr>\n",
       "    <tr>\n",
       "      <th>ita</th>\n",
       "      <td>2</td>\n",
       "    </tr>\n",
       "    <tr>\n",
       "      <th>vie</th>\n",
       "      <td>1</td>\n",
       "    </tr>\n",
       "    <tr>\n",
       "      <th>tur</th>\n",
       "      <td>1</td>\n",
       "    </tr>\n",
       "    <tr>\n",
       "      <th>nl</th>\n",
       "      <td>1</td>\n",
       "    </tr>\n",
       "    <tr>\n",
       "      <th>swe</th>\n",
       "      <td>1</td>\n",
       "    </tr>\n",
       "    <tr>\n",
       "      <th>rum</th>\n",
       "      <td>1</td>\n",
       "    </tr>\n",
       "    <tr>\n",
       "      <th>mul</th>\n",
       "      <td>1</td>\n",
       "    </tr>\n",
       "    <tr>\n",
       "      <th>rus</th>\n",
       "      <td>1</td>\n",
       "    </tr>\n",
       "  </tbody>\n",
       "</table>\n",
       "</div>"
      ],
      "text/plain": [
       "       Total Counts\n",
       "eng            6341\n",
       "en-US          2070\n",
       "en-GB           257\n",
       "ara              64\n",
       "en-CA            58\n",
       "fre              25\n",
       "ind              21\n",
       "spa              20\n",
       "ger              13\n",
       "per               7\n",
       "jpn               7\n",
       "pol               6\n",
       "por               6\n",
       "en                4\n",
       "nor               3\n",
       "dan               3\n",
       "fil               2\n",
       "ita               2\n",
       "vie               1\n",
       "tur               1\n",
       "nl                1\n",
       "swe               1\n",
       "rum               1\n",
       "mul               1\n",
       "rus               1"
      ]
     },
     "execution_count": 62,
     "metadata": {},
     "output_type": "execute_result"
    }
   ],
   "source": [
    "langCounts = pd.DataFrame(books_data['language_code'].value_counts())\n",
    "langCounts.columns = ['Total Counts']\n",
    "langCounts = langCounts.sort_values('Total Counts', ascending=False)\n",
    "langCounts"
   ]
  },
  {
   "cell_type": "code",
   "execution_count": 71,
   "metadata": {},
   "outputs": [
    {
     "data": {
      "text/plain": [
       "25"
      ]
     },
     "execution_count": 71,
     "metadata": {},
     "output_type": "execute_result"
    }
   ],
   "source": [
    "len(langCounts)"
   ]
  },
  {
   "cell_type": "code",
   "execution_count": 78,
   "metadata": {},
   "outputs": [
    {
     "data": {
      "image/png": "[encoded data removed]",
      "text/plain": [
       "<Figure size 1152x576 with 1 Axes>"
      ]
     },
     "metadata": {},
     "output_type": "display_data"
    }
   ],
   "source": [
    "plt.figure(figsize=(16,8))\n",
    "plt.title(\"Books Released Language Wise\")\n",
    "plt.bar(x=langCounts.index,height='Total Counts', data=langCounts);"
   ]
  },
  {
   "cell_type": "code",
   "execution_count": 74,
   "metadata": {},
   "outputs": [],
   "source": [
    "langCounts = langCounts.drop([\"en-US\", \"en-GB\", \"eng\", \"en-CA\"])"
   ]
  },
  {
   "cell_type": "code",
   "execution_count": 79,
   "metadata": {},
   "outputs": [
    {
     "data": {
      "image/png": "[encoded data removed]",
      "text/plain": [
       "<Figure size 1152x576 with 1 Axes>"
      ]
     },
     "metadata": {},
     "output_type": "display_data"
    }
   ],
   "source": [
    "plt.figure(figsize=(16,8))\n",
    "plt.title(\"Books Released Language Wise (Excluding English)\")\n",
    "plt.bar(x=langCounts.index,height='Total Counts', data=langCounts);"
   ]
  }
 ],
 "metadata": {
  "colab": {
   "collapsed_sections": [],
   "name": "Data Preprocessing.ipynb",
   "provenance": [
    {
     "file_id": "https://github.com/googlecolab/colabtools/blob/master/notebooks/colab-github-demo.ipynb",
     "timestamp": 1651443250360
    }
   ]
  },
  "kernelspec": {
   "display_name": "Python 3 (ipykernel)",
   "language": "python",
   "name": "python3"
  },
  "language_info": {
   "codemirror_mode": {
    "name": "ipython",
    "version": 3
   },
   "file_extension": ".py",
   "mimetype": "text/x-python",
   "name": "python",
   "nbconvert_exporter": "python",
   "pygments_lexer": "ipython3",
   "version": "3.9.7"
  }
 },
 "nbformat": 4,
 "nbformat_minor": 1
}
